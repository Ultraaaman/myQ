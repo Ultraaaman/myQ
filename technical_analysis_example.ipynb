{
 "cells": [
  {
   "cell_type": "markdown",
   "metadata": {},
   "source": [
    "# Quantlib技术分析实战演示\n",
    "\n",
    "本笔记本展示如何使用quantlib技术指标模块对真实股票数据进行技术分析。\n",
    "\n",
    "## 目标\n",
    "1. 获取真实股票数据\n",
    "2. 使用quantlib.technical进行全面技术分析\n",
    "3. 生成交易信号和投资建议\n",
    "4. 可视化分析结果"
   ]
  },
  {
   "cell_type": "code",
   "execution_count": 17,
   "metadata": {},
   "outputs": [
    {
     "name": "stdout",
     "output_type": "stream",
     "text": [
      "库导入成功\n"
     ]
    }
   ],
   "source": [
    "# 导入必要的库\n",
    "import pandas as pd\n",
    "import numpy as np\n",
    "import matplotlib.pyplot as plt\n",
    "import yfinance as yf\n",
    "from datetime import datetime, timedelta\n",
    "import warnings\n",
    "warnings.filterwarnings('ignore')\n",
    "\n",
    "# 设置中文显示\n",
    "plt.rcParams['font.sans-serif'] = ['SimHei']\n",
    "plt.rcParams['axes.unicode_minus'] = False\n",
    "\n",
    "print(\"库导入成功\")"
   ]
  },
  {
   "cell_type": "code",
   "execution_count": 3,
   "metadata": {},
   "outputs": [
    {
     "name": "stdout",
     "output_type": "stream",
     "text": [
      "quantlib技术分析模块导入成功\n"
     ]
    }
   ],
   "source": [
    "# 导入quantlib技术分析模块\n",
    "import sys\n",
    "import os\n",
    "sys.path.append('.')\n",
    "\n",
    "from quantlib.technical import TechnicalAnalyzer\n",
    "from quantlib.technical.trend import TrendIndicators\n",
    "from quantlib.technical.oscillator import OscillatorIndicators\n",
    "from quantlib.technical.volume import VolumeIndicators\n",
    "\n",
    "print(\"quantlib技术分析模块导入成功\")"
   ]
  },
  {
   "cell_type": "markdown",
   "metadata": {},
   "source": [
    "## 1. 获取股票数据\n",
    "\n",
    "我们将分析几只热门股票的技术指标"
   ]
  },
  {
   "cell_type": "code",
   "execution_count": 4,
   "metadata": {},
   "outputs": [
    {
     "name": "stdout",
     "output_type": "stream",
     "text": [
      "准备获取 4 只股票的数据...\n",
      "时间周期: 6mo, 数据间隔: 1d\n"
     ]
    }
   ],
   "source": [
    "# 定义要分析的股票\n",
    "stocks = {\n",
    "    'AAPL': 'Apple Inc.',\n",
    "    'TSLA': 'Tesla Inc.',\n",
    "    'GOOGL': 'Alphabet Inc.',\n",
    "    'MSFT': 'Microsoft Corp.'\n",
    "}\n",
    "\n",
    "# 设置数据获取参数\n",
    "period = '6mo'  # 6个月数据\n",
    "interval = '1d'  # 日线数据\n",
    "\n",
    "print(f\"准备获取 {len(stocks)} 只股票的数据...\")\n",
    "print(f\"时间周期: {period}, 数据间隔: {interval}\")"
   ]
  },
  {
   "cell_type": "code",
   "execution_count": 5,
   "metadata": {},
   "outputs": [
    {
     "name": "stdout",
     "output_type": "stream",
     "text": [
      "✓ AAPL: 获取 127 条记录 (2025-02-28 至 2025-08-29)\n",
      "✓ TSLA: 获取 127 条记录 (2025-02-28 至 2025-08-29)\n",
      "✓ GOOGL: 获取 127 条记录 (2025-02-28 至 2025-08-29)\n",
      "✓ MSFT: 获取 127 条记录 (2025-02-28 至 2025-08-29)\n",
      "\n",
      "成功获取 4 只股票的数据\n"
     ]
    }
   ],
   "source": [
    "def get_stock_data(symbol, period='6mo'):\n",
    "    \"\"\"获取股票数据\"\"\"\n",
    "    try:\n",
    "        ticker = yf.Ticker(symbol)\n",
    "        data = ticker.history(period=period)\n",
    "        \n",
    "        # 标准化列名为小写\n",
    "        data.columns = [col.lower() for col in data.columns]\n",
    "        data = data.reset_index()\n",
    "        \n",
    "        # 确保日期列名正确\n",
    "        if 'date' not in data.columns and 'Date' in data.columns:\n",
    "            data['date'] = data['Date']\n",
    "            data = data.drop('Date', axis=1)\n",
    "        elif data.index.name == 'Date':\n",
    "            data['date'] = data.index\n",
    "            data = data.reset_index(drop=True)\n",
    "        \n",
    "        print(f\"✓ {symbol}: 获取 {len(data)} 条记录 ({data['date'].iloc[0].strftime('%Y-%m-%d')} 至 {data['date'].iloc[-1].strftime('%Y-%m-%d')})\")\n",
    "        return data\n",
    "        \n",
    "    except Exception as e:\n",
    "        print(f\"× {symbol}: 获取数据失败 - {e}\")\n",
    "        return None\n",
    "\n",
    "# 获取所有股票数据\n",
    "stock_data = {}\n",
    "for symbol, name in stocks.items():\n",
    "    data = get_stock_data(symbol, period)\n",
    "    if data is not None:\n",
    "        stock_data[symbol] = data\n",
    "\n",
    "print(f\"\\n成功获取 {len(stock_data)} 只股票的数据\")"
   ]
  },
  {
   "cell_type": "markdown",
   "metadata": {},
   "source": [
    "## 2. 单只股票详细技术分析\n",
    "\n",
    "以Apple (AAPL)为例进行详细的技术分析"
   ]
  },
  {
   "cell_type": "code",
   "execution_count": 6,
   "metadata": {},
   "outputs": [
    {
     "name": "stdout",
     "output_type": "stream",
     "text": [
      "分析股票: AAPL - Apple Inc.\n",
      "数据概览:\n",
      "- 记录数: 127\n",
      "- 时间范围: 2025-02-28 至 2025-08-29\n",
      "- 当前价格: $232.14\n",
      "- 期间涨跌: -3.78%\n",
      "\n",
      "数据样本:\n",
      "                       date        open        high         low       close  \\\n",
      "0 2025-02-28 00:00:00-05:00  236.371422  241.498871  229.637904  241.249481   \n",
      "1 2025-03-03 00:00:00-05:00  241.199590  243.434125  235.533466  237.448776   \n",
      "2 2025-03-04 00:00:00-05:00  237.129580  239.483818  234.106965  235.353912   \n",
      "3 2025-03-05 00:00:00-05:00  234.845157  235.972403  228.670269  235.164383   \n",
      "4 2025-03-06 00:00:00-05:00  233.867560  237.279208  232.590687  234.755386   \n",
      "\n",
      "     volume  \n",
      "0  56833400  \n",
      "1  47184000  \n",
      "2  53798100  \n",
      "3  47227600  \n",
      "4  45170400  \n"
     ]
    }
   ],
   "source": [
    "# 选择AAPL进行详细分析\n",
    "symbol = 'AAPL'\n",
    "if symbol in stock_data:\n",
    "    aapl_data = stock_data[symbol]\n",
    "    print(f\"分析股票: {symbol} - {stocks[symbol]}\")\n",
    "    print(f\"数据概览:\")\n",
    "    print(f\"- 记录数: {len(aapl_data)}\")\n",
    "    print(f\"- 时间范围: {aapl_data['date'].iloc[0].strftime('%Y-%m-%d')} 至 {aapl_data['date'].iloc[-1].strftime('%Y-%m-%d')}\")\n",
    "    print(f\"- 当前价格: ${aapl_data['close'].iloc[-1]:.2f}\")\n",
    "    print(f\"- 期间涨跌: {((aapl_data['close'].iloc[-1] / aapl_data['close'].iloc[0] - 1) * 100):.2f}%\")\n",
    "    \n",
    "    print(\"\\n数据样本:\")\n",
    "    print(aapl_data[['date', 'open', 'high', 'low', 'close', 'volume']].head())\n",
    "else:\n",
    "    print(f\"未能获取{symbol}数据\")"
   ]
  },
  {
   "cell_type": "code",
   "execution_count": 7,
   "metadata": {},
   "outputs": [
    {
     "name": "stdout",
     "output_type": "stream",
     "text": [
      "计算技术指标...\n",
      "计算技术指标...\n",
      "技术指标计算完成\n",
      "完成! 计算了 16 个技术指标\n",
      "\n",
      "生成交易信号...\n",
      "生成交易信号...\n",
      "交易信号生成完成\n",
      "完成! 生成了 16 个交易信号\n"
     ]
    }
   ],
   "source": [
    "# 创建技术分析器\n",
    "analyzer = TechnicalAnalyzer(aapl_data)\n",
    "\n",
    "# 计算所有技术指标\n",
    "print(\"计算技术指标...\")\n",
    "analyzer.calculate_all_indicators()\n",
    "print(f\"完成! 计算了 {len(analyzer.indicators)} 个技术指标\")\n",
    "\n",
    "# 生成交易信号\n",
    "print(\"\\n生成交易信号...\")\n",
    "analyzer.generate_all_signals()\n",
    "print(f\"完成! 生成了 {len(analyzer.signals)} 个交易信号\")"
   ]
  },
  {
   "cell_type": "markdown",
   "metadata": {},
   "source": [
    "### 2.1 趋势指标分析"
   ]
  },
  {
   "cell_type": "code",
   "execution_count": 8,
   "metadata": {},
   "outputs": [
    {
     "name": "stdout",
     "output_type": "stream",
     "text": [
      "=== 趋势指标分析 ===\n",
      "\n",
      "1. 移动平均线 (Moving Averages):\n",
      "   当前价格: $232.14\n",
      "   SMA_5: $230.33 (价格在均线上方, 偏离+0.8%)\n",
      "   EMA_5: $230.79 (价格在均线上方, 偏离+0.6%)\n",
      "   SMA_10: $229.18 (价格在均线上方, 偏离+1.3%)\n",
      "   EMA_10: $229.28 (价格在均线上方, 偏离+1.2%)\n",
      "   SMA_20: $225.70 (价格在均线上方, 偏离+2.9%)\n",
      "   EMA_20: $225.74 (价格在均线上方, 偏离+2.8%)\n",
      "   SMA_50: $215.38 (价格在均线上方, 偏离+7.8%)\n",
      "   EMA_50: $218.20 (价格在均线上方, 偏离+6.4%)\n",
      "   EMA_200: $211.89 (价格在均线上方, 偏离+9.6%)\n",
      "\n",
      "2. MACD指标:\n",
      "   MACD线: 4.8499\n",
      "   信号线: 4.9529\n",
      "   柱状图: -0.1030\n",
      "   状态: MACD在零轴上方, 相对信号线死叉\n",
      "\n",
      "3. 布林带 (Bollinger Bands):\n",
      "   上轨: $244.00\n",
      "   中轨: $225.70\n",
      "   下轨: $207.40\n",
      "   价格位置: 67.6%\n",
      "   信号: 正常区域，在中轨附近\n"
     ]
    }
   ],
   "source": [
    "print(\"=== 趋势指标分析 ===\")\n",
    "print()\n",
    "\n",
    "# 移动平均线\n",
    "ma_results = analyzer.indicators['ma'].results\n",
    "current_price = aapl_data['close'].iloc[-1]\n",
    "\n",
    "print(\"1. 移动平均线 (Moving Averages):\")\n",
    "print(f\"   当前价格: ${current_price:.2f}\")\n",
    "for key, ma_series in ma_results.items():\n",
    "    if not ma_series.dropna().empty:\n",
    "        ma_value = ma_series.iloc[-1]\n",
    "        trend = \"上方\" if current_price > ma_value else \"下方\"\n",
    "        deviation = ((current_price - ma_value) / ma_value) * 100\n",
    "        print(f\"   {key}: ${ma_value:.2f} (价格在均线{trend}, 偏离{deviation:+.1f}%)\")\n",
    "\n",
    "# MACD\n",
    "macd_results = analyzer.indicators['macd'].results\n",
    "print(f\"\\n2. MACD指标:\")\n",
    "print(f\"   MACD线: {macd_results['MACD'].iloc[-1]:.4f}\")\n",
    "print(f\"   信号线: {macd_results['Signal'].iloc[-1]:.4f}\")\n",
    "print(f\"   柱状图: {macd_results['Histogram'].iloc[-1]:.4f}\")\n",
    "\n",
    "macd_trend = \"金叉\" if macd_results['MACD'].iloc[-1] > macd_results['Signal'].iloc[-1] else \"死叉\"\n",
    "macd_position = \"零轴上方\" if macd_results['MACD'].iloc[-1] > 0 else \"零轴下方\"\n",
    "print(f\"   状态: MACD在{macd_position}, 相对信号线{macd_trend}\")\n",
    "\n",
    "# 布林带\n",
    "bb_results = analyzer.indicators['bb'].results\n",
    "print(f\"\\n3. 布林带 (Bollinger Bands):\")\n",
    "print(f\"   上轨: ${bb_results['Upper_Band'].iloc[-1]:.2f}\")\n",
    "print(f\"   中轨: ${bb_results['Middle_Band'].iloc[-1]:.2f}\")\n",
    "print(f\"   下轨: ${bb_results['Lower_Band'].iloc[-1]:.2f}\")\n",
    "print(f\"   价格位置: {bb_results['BB_Position'].iloc[-1]:.1f}%\")\n",
    "\n",
    "bb_position = bb_results['BB_Position'].iloc[-1]\n",
    "if bb_position > 80:\n",
    "    bb_signal = \"超买区域，接近上轨\"\n",
    "elif bb_position < 20:\n",
    "    bb_signal = \"超卖区域，接近下轨\"\n",
    "else:\n",
    "    bb_signal = \"正常区域，在中轨附近\"\n",
    "print(f\"   信号: {bb_signal}\")"
   ]
  },
  {
   "cell_type": "markdown",
   "metadata": {},
   "source": [
    "### 2.2 震荡指标分析"
   ]
  },
  {
   "cell_type": "code",
   "execution_count": 9,
   "metadata": {},
   "outputs": [
    {
     "name": "stdout",
     "output_type": "stream",
     "text": [
      "=== 震荡指标分析 ===\n",
      "\n",
      "1. RSI相对强弱指标: 60.4\n",
      "   信号: 正常区域，保持观望\n",
      "\n",
      "2. KDJ随机指标:\n",
      "   K值: 71.4\n",
      "   D值: 60.3\n",
      "   J值: 93.5\n",
      "   信号: K线相对D线金叉，观察趋势\n",
      "\n",
      "3. Williams %R: -26.3\n",
      "   信号: 正常区域\n"
     ]
    }
   ],
   "source": [
    "print(\"=== 震荡指标分析 ===\")\n",
    "print()\n",
    "\n",
    "# RSI\n",
    "rsi_value = analyzer.indicators['rsi'].results['RSI'].iloc[-1]\n",
    "print(f\"1. RSI相对强弱指标: {rsi_value:.1f}\")\n",
    "if rsi_value > 70:\n",
    "    rsi_signal = \"超买，考虑卖出\"\n",
    "elif rsi_value < 30:\n",
    "    rsi_signal = \"超卖，考虑买入\"\n",
    "else:\n",
    "    rsi_signal = \"正常区域，保持观望\"\n",
    "print(f\"   信号: {rsi_signal}\")\n",
    "\n",
    "# KDJ\n",
    "kdj_results = analyzer.indicators['kdj'].results\n",
    "k_value = kdj_results['K'].iloc[-1]\n",
    "d_value = kdj_results['D'].iloc[-1]\n",
    "j_value = kdj_results['J'].iloc[-1]\n",
    "\n",
    "print(f\"\\n2. KDJ随机指标:\")\n",
    "print(f\"   K值: {k_value:.1f}\")\n",
    "print(f\"   D值: {d_value:.1f}\")\n",
    "print(f\"   J值: {j_value:.1f}\")\n",
    "\n",
    "kdj_trend = \"金叉\" if k_value > d_value else \"死叉\"\n",
    "if k_value > 80 and d_value > 80:\n",
    "    kdj_signal = \"高位死叉，卖出信号\"\n",
    "elif k_value < 20 and d_value < 20:\n",
    "    kdj_signal = \"低位金叉，买入信号\"\n",
    "else:\n",
    "    kdj_signal = f\"K线相对D线{kdj_trend}，观察趋势\"\n",
    "print(f\"   信号: {kdj_signal}\")\n",
    "\n",
    "# Williams %R\n",
    "williams_value = analyzer.indicators['williams'].results['Williams_R'].iloc[-1]\n",
    "print(f\"\\n3. Williams %R: {williams_value:.1f}\")\n",
    "if williams_value > -20:\n",
    "    williams_signal = \"超买，考虑卖出\"\n",
    "elif williams_value < -80:\n",
    "    williams_signal = \"超卖，考虑买入\"\n",
    "else:\n",
    "    williams_signal = \"正常区域\"\n",
    "print(f\"   信号: {williams_signal}\")"
   ]
  },
  {
   "cell_type": "markdown",
   "metadata": {},
   "source": [
    "### 2.3 成交量指标分析"
   ]
  },
  {
   "cell_type": "code",
   "execution_count": 10,
   "metadata": {},
   "outputs": [
    {
     "name": "stdout",
     "output_type": "stream",
     "text": [
      "=== 成交量指标分析 ===\n",
      "\n",
      "1. OBV能量潮: 176,496,100\n",
      "   OBV均线: 163,937,710\n",
      "   趋势: OBV相对均线上升\n",
      "\n",
      "2. VWAP成交量加权均价: $208.64\n",
      "   当前价格在VWAP上方\n",
      "\n",
      "3. CMF蔡金资金流量: 0.164\n",
      "   信号: 资金净流入\n"
     ]
    }
   ],
   "source": [
    "print(\"=== 成交量指标分析 ===\")\n",
    "print()\n",
    "\n",
    "# OBV\n",
    "obv_current = analyzer.indicators['obv'].results['OBV'].iloc[-1]\n",
    "obv_ma = analyzer.indicators['obv'].results['OBV_MA'].iloc[-1]\n",
    "print(f\"1. OBV能量潮: {obv_current:,.0f}\")\n",
    "print(f\"   OBV均线: {obv_ma:,.0f}\")\n",
    "obv_trend = \"上升\" if obv_current > obv_ma else \"下降\"\n",
    "print(f\"   趋势: OBV相对均线{obv_trend}\")\n",
    "\n",
    "# VWAP\n",
    "vwap_current = analyzer.indicators['vwap'].results['VWAP'].iloc[-1]\n",
    "print(f\"\\n2. VWAP成交量加权均价: ${vwap_current:.2f}\")\n",
    "vwap_signal = \"上方\" if current_price > vwap_current else \"下方\"\n",
    "print(f\"   当前价格在VWAP{vwap_signal}\")\n",
    "\n",
    "# CMF蔡金资金流量\n",
    "cmf_value = analyzer.indicators['cmf'].results['CMF'].iloc[-1]\n",
    "print(f\"\\n3. CMF蔡金资金流量: {cmf_value:.3f}\")\n",
    "if cmf_value > 0.1:\n",
    "    cmf_signal = \"资金净流入\"\n",
    "elif cmf_value < -0.1:\n",
    "    cmf_signal = \"资金净流出\"\n",
    "else:\n",
    "    cmf_signal = \"资金流动平衡\"\n",
    "print(f\"   信号: {cmf_signal}\")"
   ]
  },
  {
   "cell_type": "markdown",
   "metadata": {},
   "source": [
    "### 2.4 综合分析与交易建议"
   ]
  },
  {
   "cell_type": "code",
   "execution_count": 11,
   "metadata": {},
   "outputs": [
    {
     "name": "stdout",
     "output_type": "stream",
     "text": [
      "=== 综合技术分析结果 ===\n",
      "\n",
      "股票代码: AAPL\n",
      "当前价格: $232.14\n",
      "综合信号: 中性 (信号值: 0)\n",
      "信号强度: 0.03 (0-1, 越高越可靠)\n",
      "信号一致性: 0.64\n",
      "\n",
      "信号分解:\n",
      "  趋势信号: -0.20\n",
      "  震荡信号: -0.17\n",
      "  成交量信号: 1.00\n",
      "\n",
      "指标统计:\n",
      "  看涨指标: 5 个\n",
      "  看跌指标: 3 个\n",
      "  中性指标: 7 个\n",
      "  总指标数: 15 个\n",
      "\n",
      "=== 交易建议 ===\n",
      "建议: 保持观望\n",
      "理由: 多空信号相对均衡\n",
      "\n",
      "信号可靠性: 高 (基于信号强度 0.03)\n",
      "⚠️ 注意: 信号强度较低，建议结合其他分析方法\n"
     ]
    }
   ],
   "source": [
    "# 获取综合信号\n",
    "signal, strength, analysis = analyzer.get_consensus_signal()\n",
    "\n",
    "# 信号解读\n",
    "signal_meaning = {\n",
    "    2: \"强烈看涨\",\n",
    "    1: \"看涨\", \n",
    "    0: \"中性\",\n",
    "    -1: \"看跌\",\n",
    "    -2: \"强烈看跌\"\n",
    "}\n",
    "\n",
    "print(\"=== 综合技术分析结果 ===\")\n",
    "print()\n",
    "print(f\"股票代码: {symbol}\")\n",
    "print(f\"当前价格: ${current_price:.2f}\")\n",
    "print(f\"综合信号: {signal_meaning[signal]} (信号值: {signal})\")\n",
    "print(f\"信号强度: {strength:.2f} (0-1, 越高越可靠)\")\n",
    "print(f\"信号一致性: {analysis['signal_consistency']:.2f}\")\n",
    "print()\n",
    "print(\"信号分解:\")\n",
    "print(f\"  趋势信号: {analysis['trend_signal']:.2f}\")\n",
    "print(f\"  震荡信号: {analysis['oscillator_signal']:.2f}\")\n",
    "print(f\"  成交量信号: {analysis['volume_signal']:.2f}\")\n",
    "print()\n",
    "print(\"指标统计:\")\n",
    "print(f\"  看涨指标: {analysis['bullish_count']} 个\")\n",
    "print(f\"  看跌指标: {analysis['bearish_count']} 个\")\n",
    "print(f\"  中性指标: {analysis['neutral_count']} 个\")\n",
    "print(f\"  总指标数: {analysis['total_indicators']} 个\")\n",
    "\n",
    "# 交易建议\n",
    "print(\"\\n=== 交易建议 ===\")\n",
    "if signal >= 1:\n",
    "    print(f\"建议: 买入 / 持有\")\n",
    "    print(f\"理由: {analysis['bullish_count']} 个看涨指标占主导\")\n",
    "elif signal <= -1:\n",
    "    print(f\"建议: 卖出 / 观望\")\n",
    "    print(f\"理由: {analysis['bearish_count']} 个看跌指标占主导\")\n",
    "else:\n",
    "    print(f\"建议: 保持观望\")\n",
    "    print(f\"理由: 多空信号相对均衡\")\n",
    "\n",
    "# 风险提示\n",
    "risk_level = \"低\" if strength > 0.7 else \"中\" if strength > 0.4 else \"高\"\n",
    "print(f\"\\n信号可靠性: {risk_level} (基于信号强度 {strength:.2f})\")\n",
    "if strength < 0.5:\n",
    "    print(\"⚠️ 注意: 信号强度较低，建议结合其他分析方法\")"
   ]
  },
  {
   "cell_type": "markdown",
   "metadata": {},
   "source": [
    "### 2.5 支撑阻力位分析"
   ]
  },
  {
   "cell_type": "code",
   "execution_count": 12,
   "metadata": {},
   "outputs": [
    {
     "name": "stdout",
     "output_type": "stream",
     "text": [
      "=== 支撑阻力位分析 ===\n",
      "\n",
      "当前价格: $232.14\n",
      "\n",
      "支撑位: 未发现明显支撑位\n",
      "\n",
      "阻力位 (1 个):\n",
      "  R1: $214.04\n"
     ]
    }
   ],
   "source": [
    "# 识别支撑阻力位\n",
    "levels = analyzer.identify_support_resistance(window=15, min_touches=2)\n",
    "\n",
    "print(\"=== 支撑阻力位分析 ===\")\n",
    "print()\n",
    "print(f\"当前价格: ${current_price:.2f}\")\n",
    "print()\n",
    "\n",
    "# 支撑位\n",
    "support_levels = levels['support_levels']\n",
    "if support_levels:\n",
    "    print(f\"支撑位 ({len(support_levels)} 个):\")\n",
    "    # 找到最近的支撑位\n",
    "    nearby_support = [level for level in support_levels if level < current_price]\n",
    "    if nearby_support:\n",
    "        nearest_support = max(nearby_support)\n",
    "        distance = ((current_price - nearest_support) / current_price) * 100\n",
    "        print(f\"  最近支撑: ${nearest_support:.2f} (距离当前价格 {distance:.1f}%)\")\n",
    "    \n",
    "    # 显示所有支撑位\n",
    "    for i, level in enumerate(sorted(support_levels, reverse=True)[:5]):\n",
    "        print(f\"  S{i+1}: ${level:.2f}\")\n",
    "else:\n",
    "    print(\"支撑位: 未发现明显支撑位\")\n",
    "\n",
    "print()\n",
    "\n",
    "# 阻力位\n",
    "resistance_levels = levels['resistance_levels']\n",
    "if resistance_levels:\n",
    "    print(f\"阻力位 ({len(resistance_levels)} 个):\")\n",
    "    # 找到最近的阻力位\n",
    "    nearby_resistance = [level for level in resistance_levels if level > current_price]\n",
    "    if nearby_resistance:\n",
    "        nearest_resistance = min(nearby_resistance)\n",
    "        distance = ((nearest_resistance - current_price) / current_price) * 100\n",
    "        print(f\"  最近阻力: ${nearest_resistance:.2f} (距离当前价格 {distance:.1f}%)\")\n",
    "    \n",
    "    # 显示所有阻力位\n",
    "    for i, level in enumerate(sorted(resistance_levels)[:5]):\n",
    "        print(f\"  R{i+1}: ${level:.2f}\")\n",
    "else:\n",
    "    print(\"阻力位: 未发现明显阻力位\")"
   ]
  },
  {
   "cell_type": "markdown",
   "metadata": {},
   "source": [
    "### 2.6 生成完整分析报告"
   ]
  },
  {
   "cell_type": "code",
   "execution_count": 13,
   "metadata": {},
   "outputs": [
    {
     "name": "stdout",
     "output_type": "stream",
     "text": [
      "=== 完整技术分析报告 ===\n",
      "\n",
      "技术分析报告\n",
      "==================================================\n",
      "\n",
      "当前价格: 232.14\n",
      "\n",
      "综合信号: 中性 (信号强度: 0.03)\n",
      "\n",
      "信号分解:\n",
      "• 趋势信号: -0.20\n",
      "• 震荡信号: -0.17\n",
      "• 成交量信号: 1.00\n",
      "\n",
      "信号统计:\n",
      "• 看涨指标: 5 个\n",
      "• 看跌指标: 3 个\n",
      "• 中性指标: 7 个\n",
      "• 信号一致性: 0.64\n",
      "\n",
      "支撑阻力位:\n",
      "• 支撑位: \n",
      "• 阻力位: \n",
      "\n",
      "关键指标当前状态:\n",
      "• RSI(60.4): 中性\n",
      "• MACD(4.8499): 看跌\n",
      "• KDJ(K:71.4, D:60.3): 中性\n",
      "• 布林带位置(67.6%): 中性\n",
      "\n"
     ]
    }
   ],
   "source": [
    "# 生成分析报告\n",
    "report = analyzer.generate_analysis_report()\n",
    "print(\"=== 完整技术分析报告 ===\")\n",
    "print(report)"
   ]
  },
  {
   "cell_type": "markdown",
   "metadata": {},
   "source": [
    "## 3. 多股票对比分析\n",
    "\n",
    "对比分析多只股票的技术指标"
   ]
  },
  {
   "cell_type": "code",
   "execution_count": 14,
   "metadata": {},
   "outputs": [
    {
     "name": "stdout",
     "output_type": "stream",
     "text": [
      "=== 多股票技术分析对比 ===\n",
      "\n",
      "分析 AAPL...\n",
      "计算技术指标...\n",
      "技术指标计算完成\n",
      "生成交易信号...\n",
      "交易信号生成完成\n",
      "分析 TSLA...\n",
      "计算技术指标...\n",
      "技术指标计算完成\n",
      "生成交易信号...\n",
      "交易信号生成完成\n",
      "分析 GOOGL...\n",
      "计算技术指标...\n",
      "技术指标计算完成\n",
      "生成交易信号...\n",
      "交易信号生成完成\n",
      "分析 MSFT...\n",
      "计算技术指标...\n",
      "技术指标计算完成\n",
      "生成交易信号...\n",
      "交易信号生成完成\n",
      "\n",
      "完成! 成功分析 4 只股票\n"
     ]
    }
   ],
   "source": [
    "# 批量分析所有股票\n",
    "analysis_results = {}\n",
    "\n",
    "print(\"=== 多股票技术分析对比 ===\")\n",
    "print()\n",
    "\n",
    "for symbol, data in stock_data.items():\n",
    "    try:\n",
    "        print(f\"分析 {symbol}...\")\n",
    "        analyzer = TechnicalAnalyzer(data)\n",
    "        analyzer.calculate_all_indicators()\n",
    "        analyzer.generate_all_signals()\n",
    "        \n",
    "        signal, strength, analysis = analyzer.get_consensus_signal()\n",
    "        \n",
    "        analysis_results[symbol] = {\n",
    "            'name': stocks[symbol],\n",
    "            'current_price': data['close'].iloc[-1],\n",
    "            'signal': signal,\n",
    "            'strength': strength,\n",
    "            'rsi': analyzer.indicators['rsi'].results['RSI'].iloc[-1],\n",
    "            'macd': analyzer.indicators['macd'].results['MACD'].iloc[-1],\n",
    "            'bb_position': analyzer.indicators['bb'].results['BB_Position'].iloc[-1],\n",
    "            'analysis': analysis\n",
    "        }\n",
    "        \n",
    "    except Exception as e:\n",
    "        print(f\"× {symbol} 分析失败: {e}\")\n",
    "\n",
    "print(f\"\\n完成! 成功分析 {len(analysis_results)} 只股票\")"
   ]
  },
  {
   "cell_type": "code",
   "execution_count": 15,
   "metadata": {},
   "outputs": [
    {
     "name": "stdout",
     "output_type": "stream",
     "text": [
      "股票技术分析对比表:\n",
      "========================================================================================================================\n",
      " 股票代码            公司名称    当前价格 综合信号 信号强度  RSI    MACD 布林带位置  看涨指标  看跌指标\n",
      " AAPL      Apple Inc. $232.14   中性 0.03 60.4  4.8499 67.6%     5     3\n",
      " TSLA      Tesla Inc. $333.87   中性 0.20 46.8  5.9434 52.6%     5     2\n",
      "GOOGL   Alphabet Inc. $212.91   中性 0.24 72.4  5.5244 99.3%     9     3\n",
      " MSFT Microsoft Corp. $506.69   中性 0.24 36.9 -0.9250 27.3%     1     7\n",
      "\n",
      "\n",
      "按信号强度排序 (最强到最弱):\n",
      "============================================================\n",
      "1. MSFT (Microsoft Corp....): 中性 (强度: 0.24)\n",
      "2. GOOGL (Alphabet Inc....): 中性 (强度: 0.24)\n",
      "3. TSLA (Tesla Inc....): 中性 (强度: 0.20)\n",
      "4. AAPL (Apple Inc....): 中性 (强度: 0.03)\n"
     ]
    }
   ],
   "source": [
    "# 创建对比表格\n",
    "comparison_data = []\n",
    "signal_meanings = {2: \"强烈看涨\", 1: \"看涨\", 0: \"中性\", -1: \"看跌\", -2: \"强烈看跌\"}\n",
    "\n",
    "for symbol, result in analysis_results.items():\n",
    "    comparison_data.append({\n",
    "        '股票代码': symbol,\n",
    "        '公司名称': result['name'],\n",
    "        '当前价格': f\"${result['current_price']:.2f}\",\n",
    "        '综合信号': signal_meanings[result['signal']],\n",
    "        '信号强度': f\"{result['strength']:.2f}\",\n",
    "        'RSI': f\"{result['rsi']:.1f}\",\n",
    "        'MACD': f\"{result['macd']:.4f}\",\n",
    "        '布林带位置': f\"{result['bb_position']:.1f}%\",\n",
    "        '看涨指标': result['analysis']['bullish_count'],\n",
    "        '看跌指标': result['analysis']['bearish_count']\n",
    "    })\n",
    "\n",
    "# 转换为DataFrame并显示\n",
    "comparison_df = pd.DataFrame(comparison_data)\n",
    "print(\"股票技术分析对比表:\")\n",
    "print(\"=\" * 120)\n",
    "print(comparison_df.to_string(index=False))\n",
    "\n",
    "# 按信号强度排序\n",
    "print(\"\\n\\n按信号强度排序 (最强到最弱):\")\n",
    "print(\"=\" * 60)\n",
    "sorted_results = sorted(analysis_results.items(), key=lambda x: x[1]['strength'], reverse=True)\n",
    "for i, (symbol, result) in enumerate(sorted_results, 1):\n",
    "    print(f\"{i}. {symbol} ({result['name'][:15]}...): {signal_meanings[result['signal']]} (强度: {result['strength']:.2f})\")"
   ]
  },
  {
   "cell_type": "markdown",
   "metadata": {},
   "source": [
    "## 4. 技术指标可视化\n",
    "\n",
    "绘制技术分析图表"
   ]
  },
  {
   "cell_type": "code",
   "execution_count": null,
   "metadata": {},
   "outputs": [],
   "source": "# 为AAPL绘制技术分析图表\nif 'AAPL' in stock_data:\n    print(\"生成 AAPL 技术分析图表...\")\n    \n    # 重新创建分析器\n    aapl_analyzer = TechnicalAnalyzer(stock_data['AAPL'])\n    aapl_analyzer.calculate_all_indicators()\n    \n    # 调用可视化方法\n    try:\n        aapl_analyzer.plot_analysis(figsize=(15, 12))\n        print(\"图表生成完成!\")\n    except Exception as e:\n        print(f\"图表生成失败: {e}\")\n        print(\"尝试生成简化版图表...\")\n        \n        # 备选方案：简化版图表\n        try:\n            fig, ax = plt.subplots(2, 1, figsize=(12, 8))\n            \n            # 价格走势和移动平均线\n            ax[0].plot(aapl_data['close'].values, label='Close Price', linewidth=2)\n            if 'ma' in aapl_analyzer.indicators:\n                ma_results = aapl_analyzer.indicators['ma'].results\n                ax[0].plot(ma_results['SMA_20'].values, label='MA20', alpha=0.7)\n                ax[0].plot(ma_results['SMA_50'].values, label='MA50', alpha=0.7)\n            ax[0].set_title('AAPL Price & Moving Averages')\n            ax[0].legend()\n            ax[0].grid(True, alpha=0.3)\n            \n            # RSI\n            if 'rsi' in aapl_analyzer.indicators:\n                rsi_data = aapl_analyzer.indicators['rsi'].results['RSI']\n                ax[1].plot(rsi_data.values, label='RSI', color='purple')\n                ax[1].axhline(y=70, color='red', linestyle='--', alpha=0.5, label='Overbought')\n                ax[1].axhline(y=30, color='green', linestyle='--', alpha=0.5, label='Oversold')\n                ax[1].set_title('RSI Indicator')\n                ax[1].set_ylim(0, 100)\n                ax[1].legend()\n                ax[1].grid(True, alpha=0.3)\n            \n            plt.tight_layout()\n            plt.show()\n            print(\"简化版图表生成完成!\")\n        except Exception as e2:\n            print(f\"简化版图表也生成失败: {e2}\")\n            print(\"可能是matplotlib配置问题，请检查字体设置\")\nelse:\n    print(\"未找到AAPL数据\")"
  },
  {
   "cell_type": "code",
   "source": "# 备用图表方案：基础技术指标可视化\ndef create_basic_charts(data, analyzer, symbol):\n    \"\"\"创建基础的技术分析图表（无中文标签）\"\"\"\n    try:\n        # 创建子图\n        fig = plt.figure(figsize=(15, 10))\n        \n        # 1. 价格和移动平均线\n        ax1 = plt.subplot(3, 1, 1)\n        plt.plot(data['close'], label=f'{symbol} Close', linewidth=2, color='blue')\n        \n        if 'ma' in analyzer.indicators:\n            ma_results = analyzer.indicators['ma'].results\n            if 'SMA_20' in ma_results:\n                plt.plot(ma_results['SMA_20'], label='MA20', alpha=0.8, color='orange')\n            if 'SMA_50' in ma_results:\n                plt.plot(ma_results['SMA_50'], label='MA50', alpha=0.8, color='green')\n        \n        plt.title(f'{symbol} Price Chart with Moving Averages')\n        plt.legend()\n        plt.grid(True, alpha=0.3)\n        \n        # 2. MACD\n        ax2 = plt.subplot(3, 1, 2)\n        if 'macd' in analyzer.indicators:\n            macd_results = analyzer.indicators['macd'].results\n            plt.plot(macd_results['MACD'], label='MACD', color='blue')\n            plt.plot(macd_results['Signal'], label='Signal', color='red')\n            plt.bar(range(len(macd_results['Histogram'])), macd_results['Histogram'], \n                   label='Histogram', alpha=0.6, color='gray')\n            plt.axhline(y=0, color='black', linestyle='-', alpha=0.5)\n        \n        plt.title('MACD Indicator')\n        plt.legend()\n        plt.grid(True, alpha=0.3)\n        \n        # 3. RSI\n        ax3 = plt.subplot(3, 1, 3)\n        if 'rsi' in analyzer.indicators:\n            rsi_data = analyzer.indicators['rsi'].results['RSI']\n            plt.plot(rsi_data, label='RSI', color='purple', linewidth=2)\n            plt.axhline(y=70, color='red', linestyle='--', alpha=0.7, label='Overbought (70)')\n            plt.axhline(y=30, color='green', linestyle='--', alpha=0.7, label='Oversold (30)')\n            plt.ylim(0, 100)\n        \n        plt.title('RSI Indicator')\n        plt.legend()\n        plt.grid(True, alpha=0.3)\n        plt.xlabel('Time Period')\n        \n        plt.tight_layout()\n        plt.show()\n        return True\n        \n    except Exception as e:\n        print(f\\\"基础图表生成失败: {e}\\\")\\n        return False\n\n# 测试基础图表功能\nif 'AAPL' in stock_data:\n    print(\\\"尝试生成基础技术分析图表...\\\")\\n    success = create_basic_charts(stock_data['AAPL'], aapl_analyzer, 'AAPL')\n    if success:\n        print(\\\"基础图表生成成功！\\\")\\nelse:\\n    print(\\\"无AAPL数据可用\\\")",
   "metadata": {},
   "execution_count": null,
   "outputs": []
  },
  {
   "cell_type": "markdown",
   "metadata": {},
   "source": [
    "## 5. 投资组合建议\n",
    "\n",
    "基于技术分析结果给出投资组合建议"
   ]
  },
  {
   "cell_type": "code",
   "execution_count": 18,
   "metadata": {},
   "outputs": [
    {
     "name": "stdout",
     "output_type": "stream",
     "text": [
      "=== 基于技术分析的投资组合建议 ===\n",
      "\n",
      "➡️ 中性 (4 只):\n",
      "  • MSFT - Microsoft Corp.... (强度: 0.24)\n",
      "  • GOOGL - Alphabet Inc.... (强度: 0.24)\n",
      "  • TSLA - Tesla Inc.... (强度: 0.20)\n",
      "  • AAPL - Apple Inc.... (强度: 0.03)\n",
      "  建议: 持有观望，等待信号明确\n",
      "\n",
      "当前技术面偏弱，建议以现金为主，等待更好的买入时机\n"
     ]
    }
   ],
   "source": [
    "print(\"=== 基于技术分析的投资组合建议 ===\")\n",
    "print()\n",
    "\n",
    "# 分类股票\n",
    "strong_buy = []  # 强烈看涨\n",
    "buy = []         # 看涨\n",
    "hold = []        # 中性\n",
    "sell = []        # 看跌\n",
    "strong_sell = [] # 强烈看跌\n",
    "\n",
    "for symbol, result in analysis_results.items():\n",
    "    signal = result['signal']\n",
    "    strength = result['strength']\n",
    "    \n",
    "    stock_info = {\n",
    "        'symbol': symbol,\n",
    "        'name': result['name'],\n",
    "        'strength': strength,\n",
    "        'price': result['current_price']\n",
    "    }\n",
    "    \n",
    "    if signal == 2:\n",
    "        strong_buy.append(stock_info)\n",
    "    elif signal == 1:\n",
    "        buy.append(stock_info)\n",
    "    elif signal == 0:\n",
    "        hold.append(stock_info)\n",
    "    elif signal == -1:\n",
    "        sell.append(stock_info)\n",
    "    else:\n",
    "        strong_sell.append(stock_info)\n",
    "\n",
    "# 输出建议\n",
    "def print_category(stocks, title, recommendation):\n",
    "    if stocks:\n",
    "        print(f\"{title} ({len(stocks)} 只):\")\n",
    "        for stock in sorted(stocks, key=lambda x: x['strength'], reverse=True):\n",
    "            print(f\"  • {stock['symbol']} - {stock['name'][:20]}... (强度: {stock['strength']:.2f})\")\n",
    "        print(f\"  建议: {recommendation}\")\n",
    "        print()\n",
    "\n",
    "print_category(strong_buy, \"🚀 强烈看涨\", \"重点关注，可考虑重仓\")\n",
    "print_category(buy, \"📈 看涨\", \"适量买入，建议配置\")\n",
    "print_category(hold, \"➡️ 中性\", \"持有观望，等待信号明确\")\n",
    "print_category(sell, \"📉 看跌\", \"考虑减仓或卖出\")\n",
    "print_category(strong_sell, \"💥 强烈看跌\", \"建议立即卖出\")\n",
    "\n",
    "# 投资组合权重建议\n",
    "total_positive = len(strong_buy) + len(buy)\n",
    "if total_positive > 0:\n",
    "    print(\"投资组合权重建议 (基于信号强度):\")\n",
    "    print(\"=\" * 40)\n",
    "    \n",
    "    all_positive = strong_buy + buy\n",
    "    total_strength = sum(stock['strength'] for stock in all_positive)\n",
    "    \n",
    "    for stock in sorted(all_positive, key=lambda x: x['strength'], reverse=True):\n",
    "        weight = (stock['strength'] / total_strength) * 100 if total_strength > 0 else 0\n",
    "        print(f\"  {stock['symbol']}: {weight:.1f}% (强度: {stock['strength']:.2f})\")\n",
    "else:\n",
    "    print(\"当前技术面偏弱，建议以现金为主，等待更好的买入时机\")"
   ]
  },
  {
   "cell_type": "markdown",
   "metadata": {},
   "source": [
    "## 6. 总结与风险提示\n",
    "\n",
    "技术分析结果总结"
   ]
  },
  {
   "cell_type": "code",
   "execution_count": 19,
   "metadata": {},
   "outputs": [
    {
     "name": "stdout",
     "output_type": "stream",
     "text": [
      "=== 技术分析总结 ===\n",
      "\n",
      "分析股票总数: 4\n",
      "平均信号强度: 0.18\n",
      "看涨股票: 0 (0.0%)\n",
      "看跌股票: 0 (0.0%)\n",
      "中性股票: 4 (100.0%)\n",
      "\n",
      "当前市场技术面: 中性\n",
      "解读: 多空信号相对均衡\n",
      "\n",
      "=== ⚠️ 重要风险提示 ===\n",
      "\n",
      "1. 技术分析的局限性:\n",
      "   • 技术指标基于历史数据，存在滞后性\n",
      "   • 震荡市场中容易产生假突破信号\n",
      "   • 不能预测重大突发事件的影响\n",
      "\n",
      "2. 投资建议:\n",
      "   • 技术分析应与基本面分析结合使用\n",
      "   • 不要依赖单一指标做投资决策\n",
      "   • 严格执行止损策略，控制风险\n",
      "   • 合理配置仓位，避免重仓单一股票\n",
      "\n",
      "3. 免责声明:\n",
      "   • 本分析仅供参考，不构成投资建议\n",
      "   • 投资有风险，决策需谨慎\n",
      "   • 请根据自身情况做出投资决定\n",
      "\n",
      "=== 分析完成 ===\n",
      "生成时间: 2025-08-31 20:58:15\n",
      "感谢使用 quantlib 技术分析模块！\n"
     ]
    }
   ],
   "source": [
    "print(\"=== 技术分析总结 ===\")\n",
    "print()\n",
    "\n",
    "# 统计信息\n",
    "total_stocks = len(analysis_results)\n",
    "avg_strength = np.mean([result['strength'] for result in analysis_results.values()])\n",
    "bullish_count = sum(1 for result in analysis_results.values() if result['signal'] > 0)\n",
    "bearish_count = sum(1 for result in analysis_results.values() if result['signal'] < 0)\n",
    "neutral_count = sum(1 for result in analysis_results.values() if result['signal'] == 0)\n",
    "\n",
    "print(f\"分析股票总数: {total_stocks}\")\n",
    "print(f\"平均信号强度: {avg_strength:.2f}\")\n",
    "print(f\"看涨股票: {bullish_count} ({bullish_count/total_stocks*100:.1f}%)\")\n",
    "print(f\"看跌股票: {bearish_count} ({bearish_count/total_stocks*100:.1f}%)\")\n",
    "print(f\"中性股票: {neutral_count} ({neutral_count/total_stocks*100:.1f}%)\")\n",
    "print()\n",
    "\n",
    "# 市场情绪判断\n",
    "if bullish_count > bearish_count:\n",
    "    market_sentiment = \"偏乐观\"\n",
    "    sentiment_desc = \"大多数技术指标显示积极信号\"\n",
    "elif bearish_count > bullish_count:\n",
    "    market_sentiment = \"偏悲观\"\n",
    "    sentiment_desc = \"大多数技术指标显示消极信号\"\n",
    "else:\n",
    "    market_sentiment = \"中性\"\n",
    "    sentiment_desc = \"多空信号相对均衡\"\n",
    "\n",
    "print(f\"当前市场技术面: {market_sentiment}\")\n",
    "print(f\"解读: {sentiment_desc}\")\n",
    "\n",
    "print(\"\\n=== ⚠️ 重要风险提示 ===\")\n",
    "print()\n",
    "print(\"1. 技术分析的局限性:\")\n",
    "print(\"   • 技术指标基于历史数据，存在滞后性\")\n",
    "print(\"   • 震荡市场中容易产生假突破信号\")\n",
    "print(\"   • 不能预测重大突发事件的影响\")\n",
    "print()\n",
    "print(\"2. 投资建议:\")\n",
    "print(\"   • 技术分析应与基本面分析结合使用\")\n",
    "print(\"   • 不要依赖单一指标做投资决策\")\n",
    "print(\"   • 严格执行止损策略，控制风险\")\n",
    "print(\"   • 合理配置仓位，避免重仓单一股票\")\n",
    "print()\n",
    "print(\"3. 免责声明:\")\n",
    "print(\"   • 本分析仅供参考，不构成投资建议\")\n",
    "print(\"   • 投资有风险，决策需谨慎\")\n",
    "print(\"   • 请根据自身情况做出投资决定\")\n",
    "\n",
    "print(\"\\n=== 分析完成 ===\")\n",
    "print(f\"生成时间: {datetime.now().strftime('%Y-%m-%d %H:%M:%S')}\")\n",
    "print(\"感谢使用 quantlib 技术分析模块！\")"
   ]
  },
  {
   "cell_type": "code",
   "execution_count": null,
   "metadata": {},
   "outputs": [],
   "source": []
  }
 ],
 "metadata": {
  "kernelspec": {
   "display_name": "quant",
   "language": "python",
   "name": "python3"
  },
  "language_info": {
   "codemirror_mode": {
    "name": "ipython",
    "version": 3
   },
   "file_extension": ".py",
   "mimetype": "text/x-python",
   "name": "python",
   "nbconvert_exporter": "python",
   "pygments_lexer": "ipython3",
   "version": "3.10.18"
  }
 },
 "nbformat": 4,
 "nbformat_minor": 4
}