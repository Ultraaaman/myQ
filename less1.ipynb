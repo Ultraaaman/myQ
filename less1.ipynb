{
 "cells": [
  {
   "cell_type": "markdown",
   "id": "69626aa5",
   "metadata": {},
   "source": [
    "# experimental"
   ]
  },
  {
   "cell_type": "code",
   "execution_count": 1,
   "id": "02a2ff22",
   "metadata": {},
   "outputs": [
    {
     "name": "stdout",
     "output_type": "stream",
     "text": [
      "✓ 成功加载 000001 的公司信息\n",
      "\n",
      "============================================================\n",
      "财务报表分析\n",
      "============================================================\n"
     ]
    },
    {
     "data": {
      "application/vnd.jupyter.widget-view+json": {
       "model_id": "3f7bce404d65498c9d76fcd67b243648",
       "version_major": 2,
       "version_minor": 0
      },
      "text/plain": [
       "  0%|          | 0/6 [00:00<?, ?it/s]"
      ]
     },
     "metadata": {},
     "output_type": "display_data"
    },
    {
     "name": "stdout",
     "output_type": "stream",
     "text": [
      "财务指标数据获取成功:\n",
      "  数据期间: 22 个报告期\n",
      "  数据范围: 2020-03-31 至 2025-06-30\n",
      "\n",
      "最新财务指标 (2025-06-30 00:00:00):\n",
      "  摊薄每股收益: 1.28 元\n",
      "  加权每股收益: 1.18 元\n",
      "  每股净资产: 22.68 元\n",
      "  每股经营性现金流: 9.00 元\n",
      "  总资产净利润率: 0.43%\n",
      "  净资产收益率: 4.88%\n",
      "  加权净资产收益率: 5.25%\n",
      "  总资产: 5,874,961,000,000 元\n",
      "  资产负债率: 91.32%\n",
      "\n",
      "============================================================\n",
      "财务比率分析\n",
      "============================================================\n",
      "调试：获取到 9 个信息字段\n",
      "手动计算PE: 12.36 / 1.2816 = 9.64\n",
      "手动计算PB: 12.36 / 22.68 = 0.54\n",
      "关键财务比率:\n",
      "  ROE: 4.88%\n",
      "  ROA: 0.43%\n",
      "  总资产利润率: 0.42%\n",
      "  资产负债率: 91.32%\n",
      "  股东权益比率: 8.68%\n",
      "  PE: 9.64\n",
      "  PB: 0.54\n",
      "\n",
      "============================================================\n",
      "同行对比分析\n",
      "============================================================\n"
     ]
    },
    {
     "data": {
      "application/vnd.jupyter.widget-view+json": {
       "model_id": "60b1cb6cce4e4ec5b9dd846c1dbbedf2",
       "version_major": 2,
       "version_minor": 0
      },
      "text/plain": [
       "  0%|          | 0/6 [00:00<?, ?it/s]"
      ]
     },
     "metadata": {},
     "output_type": "display_data"
    },
    {
     "name": "stdout",
     "output_type": "stream",
     "text": [
      "✓ 获取 000001 数据\n"
     ]
    },
    {
     "data": {
      "application/vnd.jupyter.widget-view+json": {
       "model_id": "c088ef9130a14bbcb93f3d68391bf8a8",
       "version_major": 2,
       "version_minor": 0
      },
      "text/plain": [
       "  0%|          | 0/6 [00:00<?, ?it/s]"
      ]
     },
     "metadata": {},
     "output_type": "display_data"
    },
    {
     "name": "stdout",
     "output_type": "stream",
     "text": [
      "✓ 获取 000002 数据\n"
     ]
    },
    {
     "data": {
      "application/vnd.jupyter.widget-view+json": {
       "model_id": "bf683ef44ac241cbaed0fa1eb76735dc",
       "version_major": 2,
       "version_minor": 0
      },
      "text/plain": [
       "  0%|          | 0/6 [00:00<?, ?it/s]"
      ]
     },
     "metadata": {},
     "output_type": "display_data"
    },
    {
     "name": "stdout",
     "output_type": "stream",
     "text": [
      "✓ 获取 600036 数据\n"
     ]
    },
    {
     "data": {
      "application/vnd.jupyter.widget-view+json": {
       "model_id": "c2ab6b5f165b4ce2a2f0a2c494712c88",
       "version_major": 2,
       "version_minor": 0
      },
      "text/plain": [
       "  0%|          | 0/6 [00:00<?, ?it/s]"
      ]
     },
     "metadata": {},
     "output_type": "display_data"
    },
    {
     "name": "stdout",
     "output_type": "stream",
     "text": [
      "✓ 获取 601988 数据\n",
      "\n",
      "同行对比表:\n",
      "Symbol Company  Market Cap    PE   PB   ROE   ROA  Net Margin  Asset Turnover  Debt/Equity  Current Ratio  Revenue Growth\n",
      "000001    平安银行     2398.57  9.64 0.54  4.88  0.43        0.00               0        10.52           0.00            0.00\n",
      "000002   万  科Ａ      833.96  0.00 0.44 -6.24 -0.88      -10.32               0         2.72           1.31          -26.23\n",
      "600036    招商银行    10975.68 29.26 1.03  2.99  0.30        0.00               0         8.99           0.00            0.00\n",
      "601988    中国银行    18237.22 28.41 0.59  1.92  0.17        0.00               0        11.13           0.00            0.00\n",
      "\n",
      "行业平均值:\n",
      "  Market Cap: 行业均值 8111.36, 000001 2398.57\n",
      "  PE: 行业均值 22.44, 000001 9.64\n",
      "  PB: 行业均值 0.65, 000001 0.54\n",
      "  ROE: 行业均值 0.89%, 000001 4.88%\n",
      "  ROA: 行业均值 0.01%, 000001 0.43%\n",
      "  Net Margin: 行业均值 -10.32%, 000001 0.00%\n",
      "  Debt/Equity: 行业均值 8.34%, 000001 10.52%\n",
      "  Current Ratio: 行业均值 1.31%, 000001 0.00%\n",
      "  Revenue Growth: 行业均值 -26.23%, 000001 0.00%\n",
      "\n",
      "============================================================\n",
      "000001 投资分析摘要\n",
      "============================================================\n",
      "公司: 平安银行\n",
      "\n",
      "财务健康度评分: 25/100\n",
      "投资建议: 谨慎 - 财务状况较差\n",
      "\n",
      "风险提示:\n",
      "  - 盈利能力较弱，ROE低于5%\n",
      "  - 资产负债率过高，偿债压力较大\n"
     ]
    }
   ],
   "source": [
    "from quantlib.fundamental.analyzer import FundamentalAnalyzer\n",
    "analyzer_cn = FundamentalAnalyzer('000001', market='CN')\n",
    "        \n",
    "if analyzer_cn.load_company_data():\n",
    "    # 分析财务报表\n",
    "    analyzer_cn.analyze_financial_statements()\n",
    "    # 计算财务比率  \n",
    "    analyzer_cn.calculate_financial_ratios()\n",
    "\n",
    "    # 同行对比（银行股）\n",
    "    bank_peers = ['000002', '600036', '601988']\n",
    "    analyzer_cn.peer_comparison_analysis(bank_peers)\n",
    "\n",
    "    # 生成投资摘要\n",
    "    analyzer_cn.generate_investment_summary()\n",
    "    \n"
   ]
  },
  {
   "cell_type": "code",
   "execution_count": 4,
   "id": "aad511e1",
   "metadata": {},
   "outputs": [
    {
     "name": "stdout",
     "output_type": "stream",
     "text": [
      "\n",
      "============================================================\n",
      "财务比率分析\n",
      "============================================================\n",
      "调试：获取到 9 个信息字段\n",
      "手动计算PE: 12.36 / 1.2816 = 9.64\n",
      "手动计算PB: 12.36 / 22.68 = 0.54\n",
      "关键财务比率:\n",
      "  ROE: 4.88%\n",
      "  ROA: 0.43%\n",
      "  总资产利润率: 0.42%\n",
      "  资产负债率: 91.32%\n",
      "  股东权益比率: 8.68%\n",
      "  PE: 9.64\n",
      "  PB: 0.54\n",
      "\n",
      "============================================================\n",
      "同行对比分析\n",
      "============================================================\n"
     ]
    },
    {
     "data": {
      "application/vnd.jupyter.widget-view+json": {
       "model_id": "fe3636681629437184eaa131b72f0a78",
       "version_major": 2,
       "version_minor": 0
      },
      "text/plain": [
       "  0%|          | 0/6 [00:00<?, ?it/s]"
      ]
     },
     "metadata": {},
     "output_type": "display_data"
    },
    {
     "name": "stdout",
     "output_type": "stream",
     "text": [
      "✓ 获取 000001 数据\n"
     ]
    },
    {
     "data": {
      "application/vnd.jupyter.widget-view+json": {
       "model_id": "784cce245c714bb78a3b48bf5089afa6",
       "version_major": 2,
       "version_minor": 0
      },
      "text/plain": [
       "  0%|          | 0/6 [00:00<?, ?it/s]"
      ]
     },
     "metadata": {},
     "output_type": "display_data"
    },
    {
     "name": "stdout",
     "output_type": "stream",
     "text": [
      "✓ 获取 000002 数据\n"
     ]
    },
    {
     "data": {
      "application/vnd.jupyter.widget-view+json": {
       "model_id": "2dcc3e1202214233941d9374c6ad1dee",
       "version_major": 2,
       "version_minor": 0
      },
      "text/plain": [
       "  0%|          | 0/6 [00:00<?, ?it/s]"
      ]
     },
     "metadata": {},
     "output_type": "display_data"
    },
    {
     "name": "stdout",
     "output_type": "stream",
     "text": [
      "✓ 获取 600036 数据\n"
     ]
    },
    {
     "data": {
      "application/vnd.jupyter.widget-view+json": {
       "model_id": "3e6c13e902e5449d88714c6358f0b3a4",
       "version_major": 2,
       "version_minor": 0
      },
      "text/plain": [
       "  0%|          | 0/6 [00:00<?, ?it/s]"
      ]
     },
     "metadata": {},
     "output_type": "display_data"
    },
    {
     "name": "stdout",
     "output_type": "stream",
     "text": [
      "✓ 获取 601988 数据\n",
      "\n",
      "同行对比表:\n",
      "Symbol Company  Market Cap  PE  PB   ROE   ROA  Net Margin  Asset Turnover  Debt/Equity  Current Ratio  Revenue Growth\n",
      "000001    平安银行     2398.57   0   0  4.88  0.43        0.00               0        10.52           0.00            0.00\n",
      "000002   万  科Ａ      833.96   0   0 -6.24 -0.88      -10.32               0         2.72           1.31          -26.23\n",
      "600036    招商银行    10975.68   0   0  2.99  0.30        0.00               0         8.99           0.00            0.00\n",
      "601988    中国银行    18237.22   0   0  1.92  0.17        0.00               0        11.13           0.00            0.00\n",
      "\n",
      "行业平均值:\n",
      "  Market Cap: 行业均值 8111.36, 000001 2398.57\n",
      "  ROE: 行业均值 0.89%, 000001 4.88%\n",
      "  ROA: 行业均值 0.01%, 000001 0.43%\n",
      "  Net Margin: 行业均值 -10.32%, 000001 0.00%\n",
      "  Debt/Equity: 行业均值 8.34%, 000001 10.52%\n",
      "  Current Ratio: 行业均值 1.31%, 000001 0.00%\n",
      "  Revenue Growth: 行业均值 -26.23%, 000001 0.00%\n",
      "\n",
      "============================================================\n",
      "000001 投资分析摘要\n",
      "============================================================\n",
      "公司: 平安银行\n",
      "\n",
      "财务健康度评分: 25/100\n",
      "投资建议: 谨慎 - 财务状况较差\n",
      "\n",
      "风险提示:\n",
      "  - 盈利能力较弱，ROE低于5%\n",
      "  - 资产负债率过高，偿债压力较大\n"
     ]
    }
   ],
   "source": [
    "# 计算财务比率  \n",
    "analyzer_cn.calculate_financial_ratios()\n",
    "\n",
    "# 同行对比（银行股）\n",
    "bank_peers = ['000002', '600036', '601988']\n",
    "analyzer_cn.peer_comparison_analysis(bank_peers)\n",
    "\n",
    "# 生成投资摘要\n",
    "analyzer_cn.generate_investment_summary()"
   ]
  },
  {
   "cell_type": "code",
   "execution_count": 5,
   "id": "77fa6f74",
   "metadata": {},
   "outputs": [
    {
     "data": {
      "text/plain": [
       "{'ROE': 4.88,\n",
       " 'ROA': 0.4272,\n",
       " '总资产利润率': 0.4233,\n",
       " '资产负债率': 91.318,\n",
       " '股东权益比率': 8.682,\n",
       " 'PE': np.float64(9.644194756554306),\n",
       " 'PB': np.float64(0.544973544973545)}"
      ]
     },
     "execution_count": 5,
     "metadata": {},
     "output_type": "execute_result"
    }
   ],
   "source": [
    "analyzer_cn.ratios\n",
    "\n"
   ]
  },
  {
   "cell_type": "code",
   "execution_count": 1,
   "id": "ae136a92",
   "metadata": {},
   "outputs": [
    {
     "name": "stdout",
     "output_type": "stream",
     "text": [
      "================================================================================\n",
      "🇨🇳 A股增强版基本面分析演示 - 紫金矿业 (601899)\n",
      "================================================================================\n",
      "✓ 成功加载 601899 的公司信息\n",
      "\n",
      "============================================================\n",
      "📊 基本财务分析\n",
      "============================================================\n",
      "\n",
      "============================================================\n",
      "财务报表分析\n",
      "============================================================\n"
     ]
    },
    {
     "data": {
      "application/vnd.jupyter.widget-view+json": {
       "model_id": "670519f2bbd4467fb169f05b2480edb6",
       "version_major": 2,
       "version_minor": 0
      },
      "text/plain": [
       "  0%|          | 0/6 [00:00<?, ?it/s]"
      ]
     },
     "metadata": {},
     "output_type": "display_data"
    },
    {
     "name": "stdout",
     "output_type": "stream",
     "text": [
      "财务指标数据获取成功:\n",
      "  数据期间: 22 个报告期\n",
      "  数据范围: 2020-03-31 至 2025-06-30\n",
      "\n",
      "最新财务指标 (2025-06-30 00:00:00):\n",
      "  摊薄每股收益: 1.08 元\n",
      "  加权每股收益: 0.86 元\n",
      "  每股净资产: 53.46 元\n",
      "  每股经营性现金流: 1.08 元\n",
      "  总资产净利润率: 6.85%\n",
      "  销售净利率: 17.08%\n",
      "  净资产收益率: 16.39%\n",
      "  加权净资产收益率: 16.11%\n",
      "  总资产: 439,743,195,741 元\n",
      "  资产负债率: 56.36%\n",
      "  流动比率: 0.97\n",
      "  速动比率: 0.66\n",
      "\n",
      "============================================================\n",
      "📈 增强版财务比率计算\n",
      "============================================================\n",
      "\n",
      "============================================================\n",
      "财务比率分析\n",
      "============================================================\n",
      "调试：获取到 9 个信息字段\n",
      "手动计算PE: 23.08 / 1.0778 = 21.41\n",
      "手动计算PB: 23.08 / 53.4563 = 0.43\n",
      "关键财务比率:\n",
      "  ROE: 16.39%\n",
      "  ROA: 6.85%\n",
      "  净利率: 17.08%\n",
      "  营业利润率: 20.93%\n",
      "  总资产利润率: 6.51%\n",
      "  资产负债率: 56.36%\n",
      "  流动比率: 0.97\n",
      "  速动比率: 0.66\n",
      "  存货周转率: 3.71%\n",
      "  应收账款周转率: 20.86%\n",
      "  总资产周转率: 0.40%\n",
      "  股东权益比率: 43.64%\n",
      "  Revenue Growth: 11.50%\n",
      "  Net Income Growth: 55.04%\n",
      "  Total Assets Growth: 19.21%\n",
      "  Operating CF to Net Income: 100.64\n",
      "  PE: 21.41\n",
      "  PB: 0.43\n",
      "  Volatility: 170.51%\n",
      "  Beta: -0.00\n",
      "  1M Price Change: 20.52%\n",
      "  3M Price Change: 31.58%\n",
      "\n",
      "============================================================\n",
      "📋 详细分类指标汇总\n",
      "============================================================\n",
      "\n",
      "================================================================================\n",
      "详细财务指标分类汇总\n",
      "================================================================================\n",
      "\n",
      "📈 盈利能力指标:\n",
      "  ROE         :    16.39%\n",
      "  ROA         :     6.85%\n",
      "  净利率         :    17.08%\n",
      "  营业利润率       :    20.93%\n",
      "  总资产利润率      :     6.51%\n",
      "\n",
      "🚀 成长性指标:\n",
      "  Revenue Growth    :    11.50%\n",
      "  Net Income Growth :    55.04%\n",
      "  Total Assets Growth:    19.21%\n",
      "\n",
      "💰 现金流质量指标:\n",
      "  Operating CF to Net Income:   100.64%\n",
      "\n",
      "🛡️ 偿债能力指标:\n",
      "  资产负债率       :    56.36\n",
      "  流动比率        :     0.97\n",
      "  速动比率        :     0.66\n",
      "  股东权益比率      :    43.64%\n",
      "\n",
      "⚡ 营运能力指标:\n",
      "  存货周转率          :     3.71次\n",
      "  应收账款周转率        :    20.86次\n",
      "  总资产周转率         :     0.40次\n",
      "\n",
      "💎 估值指标:\n",
      "  PE          :    21.41倍\n",
      "  PB          :     0.43倍\n",
      "\n",
      "📊 市场表现指标:\n",
      "  Beta              :    -0.00\n",
      "  Volatility        :   170.51%\n",
      "  1M Price Change   :    20.52%\n",
      "  3M Price Change   :    31.58%\n",
      "\n",
      "================================================================================\n",
      "\n",
      "============================================================\n",
      "⚖️ 同行对比分析 - 矿业股\n",
      "============================================================\n",
      "\n",
      "============================================================\n",
      "同行对比分析\n",
      "============================================================\n"
     ]
    },
    {
     "data": {
      "application/vnd.jupyter.widget-view+json": {
       "model_id": "15bc3874265e4ce18a001124438d0a3c",
       "version_major": 2,
       "version_minor": 0
      },
      "text/plain": [
       "  0%|          | 0/6 [00:00<?, ?it/s]"
      ]
     },
     "metadata": {},
     "output_type": "display_data"
    },
    {
     "name": "stdout",
     "output_type": "stream",
     "text": [
      "✓ 获取 601899 数据\n"
     ]
    },
    {
     "data": {
      "application/vnd.jupyter.widget-view+json": {
       "model_id": "6907c07dc4454c14b32dd4fe730b86f3",
       "version_major": 2,
       "version_minor": 0
      },
      "text/plain": [
       "  0%|          | 0/6 [00:00<?, ?it/s]"
      ]
     },
     "metadata": {},
     "output_type": "display_data"
    },
    {
     "name": "stdout",
     "output_type": "stream",
     "text": [
      "✓ 获取 000060 数据\n"
     ]
    },
    {
     "data": {
      "application/vnd.jupyter.widget-view+json": {
       "model_id": "f73726cd6ffc434eb36c4d036e28f5ed",
       "version_major": 2,
       "version_minor": 0
      },
      "text/plain": [
       "  0%|          | 0/6 [00:00<?, ?it/s]"
      ]
     },
     "metadata": {},
     "output_type": "display_data"
    },
    {
     "name": "stdout",
     "output_type": "stream",
     "text": [
      "✓ 获取 600547 数据\n"
     ]
    },
    {
     "data": {
      "application/vnd.jupyter.widget-view+json": {
       "model_id": "9d795a9373db40e498fd2b8db6cc2799",
       "version_major": 2,
       "version_minor": 0
      },
      "text/plain": [
       "  0%|          | 0/6 [00:00<?, ?it/s]"
      ]
     },
     "metadata": {},
     "output_type": "display_data"
    },
    {
     "name": "stdout",
     "output_type": "stream",
     "text": [
      "✓ 获取 002714 数据\n",
      "\n",
      "同行对比表:\n",
      "Symbol Company  Market Cap    PE   PB   ROE  ROA  Net Margin  Asset Turnover  Debt/Equity  Current Ratio  Revenue Growth\n",
      "601899    紫金矿业     6134.10 21.41 0.43 16.39 6.85       17.08               0         1.29           0.97           11.50\n",
      "000060    中金岭南      196.22 64.10 1.36  1.89 0.65        1.91               0         1.71           1.23          -10.78\n",
      "600547    山东黄金     1492.34 38.53 3.53  6.64 2.37        6.82               0         1.71           0.46           24.01\n",
      "002714    牧原股份     3002.34 27.83 3.83 13.42 5.77       14.11               0         1.28           0.79           34.46\n",
      "\n",
      "行业平均值:\n",
      "  Market Cap: 行业均值 2706.25, 601899 6134.10\n",
      "  PE: 行业均值 37.97, 601899 21.41\n",
      "  PB: 行业均值 2.29, 601899 0.43\n",
      "  ROE: 行业均值 9.59%, 601899 16.39%\n",
      "  ROA: 行业均值 3.91%, 601899 6.85%\n",
      "  Net Margin: 行业均值 9.98%, 601899 17.08%\n",
      "  Debt/Equity: 行业均值 1.50%, 601899 1.29%\n",
      "  Current Ratio: 行业均值 0.86%, 601899 0.97%\n",
      "  Revenue Growth: 行业均值 14.80%, 601899 11.50%\n",
      "\n",
      "============================================================\n",
      "💡 投资分析摘要\n",
      "============================================================\n",
      "\n",
      "============================================================\n",
      "601899 投资分析摘要\n",
      "============================================================\n",
      "公司: 紫金矿业\n",
      "\n",
      "财务健康度评分: 62/100\n",
      "投资建议: 推荐 - 财务状况良好\n",
      "\n",
      "风险提示:\n",
      "  - 流动比率小于1，短期偿债能力不足\n",
      "  - 股价波动率过高，投资风险较大\n"
     ]
    }
   ],
   "source": [
    "# ================================================================\n",
    "# 增强版A股基本面分析演示 - 紫金矿业 (601899)\n",
    "# 模仿enhanced_analysis_demo.py的结构\n",
    "# ================================================================\n",
    "\n",
    "print(\"=\"*80)\n",
    "print(\"🇨🇳 A股增强版基本面分析演示 - 紫金矿业 (601899)\")\n",
    "print(\"=\"*80)\n",
    "\n",
    "from quantlib.fundamental.analyzer import FundamentalAnalyzer\n",
    "\n",
    "# 创建紫金矿业分析器\n",
    "zijin_analyzer = FundamentalAnalyzer('601899', market='CN')\n",
    "\n",
    "if zijin_analyzer.load_company_data():\n",
    "    print(f\"\\n{'='*60}\")\n",
    "    print(\"📊 基本财务分析\")\n",
    "    print('='*60)\n",
    "    \n",
    "    # 基本财务分析\n",
    "    zijin_analyzer.analyze_financial_statements()\n",
    "    \n",
    "    print(f\"\\n{'='*60}\")\n",
    "    print(\"📈 增强版财务比率计算\")\n",
    "    print('='*60)\n",
    "    \n",
    "    # 计算增强版财务比率（包含新指标）\n",
    "    zijin_analyzer.calculate_financial_ratios()\n",
    "    \n",
    "    print(f\"\\n{'='*60}\")\n",
    "    print(\"📋 详细分类指标汇总\")\n",
    "    print('='*60)\n",
    "    \n",
    "    # 显示详细分类指标汇总\n",
    "    zijin_analyzer.print_detailed_ratios_summary()\n",
    "    \n",
    "    print(f\"\\n{'='*60}\")\n",
    "    print(\"⚖️ 同行对比分析 - 矿业股\")\n",
    "    print('='*60)\n",
    "    \n",
    "    # 同行对比 - 矿业股\n",
    "    mining_peers = ['000060', '600547', '002714']  # 中金岭南、山东黄金、牧原股份\n",
    "    zijin_analyzer.peer_comparison_analysis(mining_peers)\n",
    "    \n",
    "    print(f\"\\n{'='*60}\")\n",
    "    print(\"💡 投资分析摘要\")\n",
    "    print('='*60)\n",
    "    \n",
    "    # 生成投资摘要（包含新指标的评估）\n",
    "    zijin_analyzer.generate_investment_summary()\n",
    "    \n",
    "else:\n",
    "    print(\"❌ 无法加载紫金矿业数据，请检查网络连接或股票代码\")"
   ]
  },
  {
   "cell_type": "code",
   "execution_count": null,
   "id": "as4l2pk9rda",
   "metadata": {},
   "outputs": [],
   "source": [
    "print(f\"\\n\\n{'='*80}\")\n",
    "print(\"📚 新增指标说明\")\n",
    "print('='*80)\n",
    "print(\"\"\"\n",
    "🚀 成长性指标:\n",
    "- Revenue Growth: 营收增长率\n",
    "- Net Income Growth: 净利润增长率  \n",
    "- EPS Growth: 每股收益增长率\n",
    "\n",
    "💰 现金流质量指标:\n",
    "- Operating CF to Net Income: 经营现金流/净利润比率\n",
    "- Free Cash Flow: 自由现金流\n",
    "- Free Cash Flow Yield: 自由现金流收益率\n",
    "\n",
    "🏗️ 资产质量指标:\n",
    "- Goodwill Ratio: 商誉占比\n",
    "- Intangible Assets Ratio: 无形资产比例\n",
    "- Tangible Book Value Ratio: 有形资产净值比率\n",
    "\n",
    "💵 股息指标:\n",
    "- Dividend Yield: 股息收益率\n",
    "- Payout Ratio: 派息比率\n",
    "\n",
    "📊 市场表现指标:\n",
    "- Beta: 系统性风险系数\n",
    "- Volatility: 年化波动率\n",
    "- Sharpe Ratio: 夏普比率\n",
    "- 1M/3M Price Change: 1个月/3个月价格变化\n",
    "\n",
    "⚖️ 增强版评分系统:\n",
    "- 重新调整了各指标权重\n",
    "- 新增成长性评分 (15分)\n",
    "- 新增现金流质量评分 (5分)\n",
    "- 新增资产质量评分 (10分)\n",
    "- 新增市场风险评分 (5分)\n",
    "- 更全面的风险识别系统\n",
    "\n",
    "🔍 A股特色功能:\n",
    "- 支持A股股票代码格式\n",
    "- 使用akshare数据源获取中国股票数据\n",
    "- 适配中国会计准则的财务指标\n",
    "- 使用沪深300作为市场基准计算Beta\n",
    "- 支持中文财务指标显示\n",
    "\"\"\")"
   ]
  }
 ],
 "metadata": {
  "kernelspec": {
   "display_name": "quant",
   "language": "python",
   "name": "python3"
  },
  "language_info": {
   "codemirror_mode": {
    "name": "ipython",
    "version": 3
   },
   "file_extension": ".py",
   "mimetype": "text/x-python",
   "name": "python",
   "nbconvert_exporter": "python",
   "pygments_lexer": "ipython3",
   "version": "3.10.18"
  }
 },
 "nbformat": 4,
 "nbformat_minor": 5
}
