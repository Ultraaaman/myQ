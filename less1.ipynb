{
 "cells": [
  {
   "cell_type": "markdown",
   "id": "69626aa5",
   "metadata": {},
   "source": [
    "# experimental"
   ]
  },
  {
   "cell_type": "code",
   "execution_count": 7,
   "id": "bd4b7641",
   "metadata": {},
   "outputs": [
    {
     "name": "stdout",
     "output_type": "stream",
     "text": [
      "          item         value\n",
      "0       sell_5  1.210000e+01\n",
      "1   sell_5_vol  6.058000e+05\n",
      "2       sell_4  1.209000e+01\n",
      "3   sell_4_vol  6.108000e+05\n",
      "4       sell_3  1.208000e+01\n",
      "5   sell_3_vol  9.176000e+05\n",
      "6       sell_2  1.207000e+01\n",
      "7   sell_2_vol  9.161000e+05\n",
      "8       sell_1  1.206000e+01\n",
      "9   sell_1_vol  1.599000e+05\n",
      "10       buy_1  1.205000e+01\n",
      "11   buy_1_vol  1.402300e+06\n",
      "12       buy_2  1.204000e+01\n",
      "13   buy_2_vol  1.267000e+06\n",
      "14       buy_3  1.203000e+01\n",
      "15   buy_3_vol  1.585300e+06\n",
      "16       buy_4  1.202000e+01\n",
      "17   buy_4_vol  1.385900e+06\n",
      "18       buy_5  1.201000e+01\n",
      "19   buy_5_vol  1.078500e+06\n",
      "20          最新  1.206000e+01\n",
      "21          均价  1.204000e+01\n",
      "22          涨幅 -7.400000e-01\n",
      "23          涨跌 -9.000000e-02\n",
      "24          总手  1.644260e+06\n",
      "25          金额  1.979461e+09\n",
      "26          换手  8.500000e-01\n",
      "27          量比  1.300000e+00\n",
      "28          最高  1.217000e+01\n",
      "29          最低  1.198000e+01\n",
      "30          今开  1.215000e+01\n",
      "31          昨收  1.215000e+01\n",
      "32          涨停  1.337000e+01\n",
      "33          跌停  1.094000e+01\n",
      "34          外盘  6.353400e+05\n",
      "35          内盘  1.008920e+06\n"
     ]
    }
   ],
   "source": [
    "import akshare as ak\n",
    "\n",
    "stock_bid_ask_em_df = ak.stock_bid_ask_em(symbol=\"000001\")\n",
    "print(stock_bid_ask_em_df)"
   ]
  },
  {
   "cell_type": "code",
   "execution_count": 1,
   "id": "dd7247a3",
   "metadata": {},
   "outputs": [],
   "source": [
    "from quantlib.fundamental.analyzer import FundamentalAnalyzer"
   ]
  },
  {
   "cell_type": "code",
   "execution_count": 2,
   "id": "02a2ff22",
   "metadata": {},
   "outputs": [
    {
     "name": "stdout",
     "output_type": "stream",
     "text": [
      "✓ 成功加载 000001 的公司信息\n",
      "\n",
      "============================================================\n",
      "财务报表分析\n",
      "============================================================\n"
     ]
    },
    {
     "data": {
      "application/vnd.jupyter.widget-view+json": {
       "model_id": "edee16bf8b0e44dc802a57aee584a238",
       "version_major": 2,
       "version_minor": 0
      },
      "text/plain": [
       "  0%|          | 0/6 [00:00<?, ?it/s]"
      ]
     },
     "metadata": {},
     "output_type": "display_data"
    },
    {
     "name": "stdout",
     "output_type": "stream",
     "text": [
      "财务指标数据获取成功:\n",
      "  数据期间: 22 个报告期\n",
      "  数据范围: 2020-03-31 至 2025-06-30\n",
      "\n",
      "最新财务指标 (2025-06-30 00:00:00):\n",
      "  摊薄每股收益: 1.28 元\n",
      "  加权每股收益: 1.18 元\n",
      "  每股净资产: 22.68 元\n",
      "  每股经营性现金流: 9.00 元\n",
      "  总资产净利润率: 0.43%\n",
      "  净资产收益率: 4.88%\n",
      "  加权净资产收益率: 5.25%\n",
      "  总资产: 5,874,961,000,000 元\n",
      "  资产负债率: 91.32%\n"
     ]
    }
   ],
   "source": [
    "analyzer_cn = FundamentalAnalyzer('000001', market='CN')\n",
    "        \n",
    "if analyzer_cn.load_company_data():\n",
    "    # 分析财务报表\n",
    "    analyzer_cn.analyze_financial_statements()\n",
    "    \n",
    "    \n"
   ]
  },
  {
   "cell_type": "code",
   "execution_count": 3,
   "id": "aad511e1",
   "metadata": {},
   "outputs": [
    {
     "name": "stdout",
     "output_type": "stream",
     "text": [
      "\n",
      "============================================================\n",
      "财务比率分析\n",
      "============================================================\n",
      "关键财务比率:\n",
      "  ROE: 4.88%\n",
      "  ROA: 0.43%\n",
      "  总资产利润率: 0.42%\n",
      "  资产负债率: 91.32%\n",
      "  股东权益比率: 8.68%\n",
      "\n",
      "============================================================\n",
      "同行对比分析\n",
      "============================================================\n"
     ]
    },
    {
     "data": {
      "application/vnd.jupyter.widget-view+json": {
       "model_id": "b2d8d720fbac4399be33e641d87f42b0",
       "version_major": 2,
       "version_minor": 0
      },
      "text/plain": [
       "  0%|          | 0/6 [00:00<?, ?it/s]"
      ]
     },
     "metadata": {},
     "output_type": "display_data"
    },
    {
     "name": "stdout",
     "output_type": "stream",
     "text": [
      "✓ 获取 000001 数据\n"
     ]
    },
    {
     "data": {
      "application/vnd.jupyter.widget-view+json": {
       "model_id": "f0c1f561dbf6488ab03d4cb822e743aa",
       "version_major": 2,
       "version_minor": 0
      },
      "text/plain": [
       "  0%|          | 0/6 [00:00<?, ?it/s]"
      ]
     },
     "metadata": {},
     "output_type": "display_data"
    },
    {
     "name": "stdout",
     "output_type": "stream",
     "text": [
      "✓ 获取 000002 数据\n"
     ]
    },
    {
     "data": {
      "application/vnd.jupyter.widget-view+json": {
       "model_id": "7a6a805edc8e43d2b2721dea01b2a4be",
       "version_major": 2,
       "version_minor": 0
      },
      "text/plain": [
       "  0%|          | 0/6 [00:00<?, ?it/s]"
      ]
     },
     "metadata": {},
     "output_type": "display_data"
    },
    {
     "name": "stdout",
     "output_type": "stream",
     "text": [
      "✓ 获取 600036 数据\n"
     ]
    },
    {
     "data": {
      "application/vnd.jupyter.widget-view+json": {
       "model_id": "73dbe4b01230476fbd3fd7c69c6e1ffd",
       "version_major": 2,
       "version_minor": 0
      },
      "text/plain": [
       "  0%|          | 0/6 [00:00<?, ?it/s]"
      ]
     },
     "metadata": {},
     "output_type": "display_data"
    },
    {
     "name": "stdout",
     "output_type": "stream",
     "text": [
      "✓ 获取 601988 数据\n",
      "\n",
      "同行对比表:\n",
      "Symbol Company  Market Cap  PE  PB   ROE   ROA  Net Margin  Asset Turnover  Debt/Equity  Current Ratio  Revenue Growth\n",
      "000001    平安银行     2340.35 0.0 0.0  4.88  0.43        0.00               0        10.52           0.00            0.00\n",
      "000002   万  科Ａ      782.65 0.0 0.0 -6.24 -0.88      -10.32               0         2.72           1.31          -26.23\n",
      "600036    招商银行    10910.11 0.0 0.0  2.99  0.30        0.00               0         8.99           0.00            0.00\n",
      "601988    中国银行    18366.11 0.0 0.0  1.92  0.17        0.00               0        11.13           0.00            0.00\n",
      "\n",
      "行业平均值:\n",
      "  Market Cap: 行业均值 8099.81, 000001 2340.35\n",
      "  ROE: 行业均值 0.89%, 000001 4.88%\n",
      "  ROA: 行业均值 0.01%, 000001 0.43%\n",
      "  Net Margin: 行业均值 -10.32%, 000001 0.00%\n",
      "  Debt/Equity: 行业均值 8.34%, 000001 10.52%\n",
      "  Current Ratio: 行业均值 1.31%, 000001 0.00%\n",
      "  Revenue Growth: 行业均值 -26.23%, 000001 0.00%\n",
      "\n",
      "============================================================\n",
      "000001 投资分析摘要\n",
      "============================================================\n",
      "公司: 平安银行\n",
      "\n",
      "财务健康度评分: 0/100\n",
      "投资建议: 不推荐 - 财务状况堪忧\n",
      "\n",
      "风险提示:\n",
      "  - 盈利能力较弱，ROE低于5%\n",
      "  - 资产负债率过高，偿债压力较大\n"
     ]
    }
   ],
   "source": [
    "# 计算财务比率  \n",
    "analyzer_cn.calculate_financial_ratios()\n",
    "\n",
    "# 同行对比（银行股）\n",
    "bank_peers = ['000002', '600036', '601988']\n",
    "analyzer_cn.peer_comparison_analysis(bank_peers)\n",
    "\n",
    "# 生成投资摘要\n",
    "analyzer_cn.generate_investment_summary()"
   ]
  },
  {
   "cell_type": "code",
   "execution_count": 8,
   "id": "1961a54f",
   "metadata": {},
   "outputs": [
    {
     "ename": "NameError",
     "evalue": "name 'analyzer_cn' is not defined",
     "output_type": "error",
     "traceback": [
      "\u001b[1;31m---------------------------------------------------------------------------\u001b[0m",
      "\u001b[1;31mNameError\u001b[0m                                 Traceback (most recent call last)",
      "Cell \u001b[1;32mIn[8], line 1\u001b[0m\n\u001b[1;32m----> 1\u001b[0m \u001b[43manalyzer_cn\u001b[49m\u001b[38;5;241m.\u001b[39m_calculate_financial_health_score(\u001b[38;5;124m'\u001b[39m\u001b[38;5;124m000001\u001b[39m\u001b[38;5;124m'\u001b[39m)\n",
      "\u001b[1;31mNameError\u001b[0m: name 'analyzer_cn' is not defined"
     ]
    }
   ],
   "source": [
    "analyzer_cn._calculate_financial_health_score('000001')"
   ]
  },
  {
   "cell_type": "code",
   "execution_count": 9,
   "id": "319b8ac4",
   "metadata": {},
   "outputs": [
    {
     "data": {
      "text/plain": [
       "{}"
      ]
     },
     "execution_count": 9,
     "metadata": {},
     "output_type": "execute_result"
    }
   ],
   "source": [
    "analyzer_cn.financial_data"
   ]
  },
  {
   "cell_type": "code",
   "execution_count": 13,
   "id": "a9896f0f",
   "metadata": {},
   "outputs": [
    {
     "data": {
      "application/vnd.jupyter.widget-view+json": {
       "model_id": "1c019e27b30e4e398a41e44706ff5835",
       "version_major": 2,
       "version_minor": 0
      },
      "text/plain": [
       "  0%|          | 0/6 [00:00<?, ?it/s]"
      ]
     },
     "metadata": {},
     "output_type": "display_data"
    }
   ],
   "source": [
    "indictor=ak.stock_financial_analysis_indicator(symbol='600004',start_year='2020')"
   ]
  },
  {
   "cell_type": "code",
   "execution_count": 12,
   "id": "a4dc9fc1",
   "metadata": {},
   "outputs": [
    {
     "data": {
      "text/plain": [
       "0"
      ]
     },
     "execution_count": 12,
     "metadata": {},
     "output_type": "execute_result"
    }
   ],
   "source": [
    "len(indictor)"
   ]
  },
  {
   "cell_type": "code",
   "execution_count": 20,
   "id": "21e4faec",
   "metadata": {},
   "outputs": [
    {
     "data": {
      "application/vnd.jupyter.widget-view+json": {
       "model_id": "617b624951bf444ebab02fb3584b7a21",
       "version_major": 2,
       "version_minor": 0
      },
      "text/plain": [
       "  0%|          | 0/6 [00:00<?, ?it/s]"
      ]
     },
     "metadata": {},
     "output_type": "display_data"
    }
   ],
   "source": [
    "symbol = '600004'\n",
    "start_year = '2020'\n",
    "financial_indicators = ak.stock_financial_analysis_indicator(symbol=symbol, start_year=start_year)"
   ]
  },
  {
   "cell_type": "code",
   "execution_count": 22,
   "id": "cdd256af",
   "metadata": {},
   "outputs": [
    {
     "data": {
      "text/plain": [
       "Index(['日期', '摊薄每股收益(元)', '加权每股收益(元)', '每股收益_调整后(元)', '扣除非经常性损益后的每股收益(元)',\n",
       "       '每股净资产_调整前(元)', '每股净资产_调整后(元)', '每股经营性现金流(元)', '每股资本公积金(元)',\n",
       "       '每股未分配利润(元)', '调整后的每股净资产(元)', '总资产利润率(%)', '主营业务利润率(%)', '总资产净利润率(%)',\n",
       "       '成本费用利润率(%)', '营业利润率(%)', '主营业务成本率(%)', '销售净利率(%)', '股本报酬率(%)',\n",
       "       '净资产报酬率(%)', '资产报酬率(%)', '销售毛利率(%)', '三项费用比重', '非主营比重', '主营利润比重',\n",
       "       '股息发放率(%)', '投资收益率(%)', '主营业务利润(元)', '净资产收益率(%)', '加权净资产收益率(%)',\n",
       "       '扣除非经常性损益后的净利润(元)', '主营业务收入增长率(%)', '净利润增长率(%)', '净资产增长率(%)',\n",
       "       '总资产增长率(%)', '应收账款周转率(次)', '应收账款周转天数(天)', '存货周转天数(天)', '存货周转率(次)',\n",
       "       '固定资产周转率(次)', '总资产周转率(次)', '总资产周转天数(天)', '流动资产周转率(次)', '流动资产周转天数(天)',\n",
       "       '股东权益周转率(次)', '流动比率', '速动比率', '现金比率(%)', '利息支付倍数', '长期债务与营运资金比率(%)',\n",
       "       '股东权益比率(%)', '长期负债比率(%)', '股东权益与固定资产比率(%)', '负债与所有者权益比率(%)',\n",
       "       '长期资产与长期资金比率(%)', '资本化比率(%)', '固定资产净值率(%)', '资本固定化比率(%)', '产权比率(%)',\n",
       "       '清算价值比率(%)', '固定资产比重(%)', '资产负债率(%)', '总资产(元)', '经营现金净流量对销售收入比率(%)',\n",
       "       '资产的经营现金流量回报率(%)', '经营现金净流量与净利润的比率(%)', '经营现金净流量对负债比率(%)', '现金流量比率(%)',\n",
       "       '短期股票投资(元)', '短期债券投资(元)', '短期其它经营性投资(元)', '长期股票投资(元)', '长期债券投资(元)',\n",
       "       '长期其它经营性投资(元)', '1年以内应收帐款(元)', '1-2年以内应收帐款(元)', '2-3年以内应收帐款(元)',\n",
       "       '3年以内应收帐款(元)', '1年以内预付货款(元)', '1-2年以内预付货款(元)', '2-3年以内预付货款(元)',\n",
       "       '3年以内预付货款(元)', '1年以内其它应收款(元)', '1-2年以内其它应收款(元)', '2-3年以内其它应收款(元)',\n",
       "       '3年以内其它应收款(元)'],\n",
       "      dtype='object')"
      ]
     },
     "execution_count": 22,
     "metadata": {},
     "output_type": "execute_result"
    }
   ],
   "source": [
    "financial_indicators.columns"
   ]
  },
  {
   "cell_type": "code",
   "execution_count": null,
   "id": "b9aa538d",
   "metadata": {},
   "outputs": [],
   "source": []
  }
 ],
 "metadata": {
  "kernelspec": {
   "display_name": "quant",
   "language": "python",
   "name": "python3"
  },
  "language_info": {
   "codemirror_mode": {
    "name": "ipython",
    "version": 3
   },
   "file_extension": ".py",
   "mimetype": "text/x-python",
   "name": "python",
   "nbconvert_exporter": "python",
   "pygments_lexer": "ipython3",
   "version": "3.10.18"
  }
 },
 "nbformat": 4,
 "nbformat_minor": 5
}
