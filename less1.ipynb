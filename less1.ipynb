{
 "cells": [
  {
   "cell_type": "markdown",
   "id": "69626aa5",
   "metadata": {},
   "source": [
    "# experimental"
   ]
  },
  {
   "cell_type": "code",
   "execution_count": 1,
   "id": "02a2ff22",
   "metadata": {},
   "outputs": [
    {
     "name": "stdout",
     "output_type": "stream",
     "text": [
      "✓ 成功加载 000001 的公司信息\n",
      "\n",
      "============================================================\n",
      "财务报表分析\n",
      "============================================================\n"
     ]
    },
    {
     "data": {
      "application/vnd.jupyter.widget-view+json": {
       "model_id": "3f7bce404d65498c9d76fcd67b243648",
       "version_major": 2,
       "version_minor": 0
      },
      "text/plain": [
       "  0%|          | 0/6 [00:00<?, ?it/s]"
      ]
     },
     "metadata": {},
     "output_type": "display_data"
    },
    {
     "name": "stdout",
     "output_type": "stream",
     "text": [
      "财务指标数据获取成功:\n",
      "  数据期间: 22 个报告期\n",
      "  数据范围: 2020-03-31 至 2025-06-30\n",
      "\n",
      "最新财务指标 (2025-06-30 00:00:00):\n",
      "  摊薄每股收益: 1.28 元\n",
      "  加权每股收益: 1.18 元\n",
      "  每股净资产: 22.68 元\n",
      "  每股经营性现金流: 9.00 元\n",
      "  总资产净利润率: 0.43%\n",
      "  净资产收益率: 4.88%\n",
      "  加权净资产收益率: 5.25%\n",
      "  总资产: 5,874,961,000,000 元\n",
      "  资产负债率: 91.32%\n",
      "\n",
      "============================================================\n",
      "财务比率分析\n",
      "============================================================\n",
      "调试：获取到 9 个信息字段\n",
      "手动计算PE: 12.36 / 1.2816 = 9.64\n",
      "手动计算PB: 12.36 / 22.68 = 0.54\n",
      "关键财务比率:\n",
      "  ROE: 4.88%\n",
      "  ROA: 0.43%\n",
      "  总资产利润率: 0.42%\n",
      "  资产负债率: 91.32%\n",
      "  股东权益比率: 8.68%\n",
      "  PE: 9.64\n",
      "  PB: 0.54\n",
      "\n",
      "============================================================\n",
      "同行对比分析\n",
      "============================================================\n"
     ]
    },
    {
     "data": {
      "application/vnd.jupyter.widget-view+json": {
       "model_id": "60b1cb6cce4e4ec5b9dd846c1dbbedf2",
       "version_major": 2,
       "version_minor": 0
      },
      "text/plain": [
       "  0%|          | 0/6 [00:00<?, ?it/s]"
      ]
     },
     "metadata": {},
     "output_type": "display_data"
    },
    {
     "name": "stdout",
     "output_type": "stream",
     "text": [
      "✓ 获取 000001 数据\n"
     ]
    },
    {
     "data": {
      "application/vnd.jupyter.widget-view+json": {
       "model_id": "c088ef9130a14bbcb93f3d68391bf8a8",
       "version_major": 2,
       "version_minor": 0
      },
      "text/plain": [
       "  0%|          | 0/6 [00:00<?, ?it/s]"
      ]
     },
     "metadata": {},
     "output_type": "display_data"
    },
    {
     "name": "stdout",
     "output_type": "stream",
     "text": [
      "✓ 获取 000002 数据\n"
     ]
    },
    {
     "data": {
      "application/vnd.jupyter.widget-view+json": {
       "model_id": "bf683ef44ac241cbaed0fa1eb76735dc",
       "version_major": 2,
       "version_minor": 0
      },
      "text/plain": [
       "  0%|          | 0/6 [00:00<?, ?it/s]"
      ]
     },
     "metadata": {},
     "output_type": "display_data"
    },
    {
     "name": "stdout",
     "output_type": "stream",
     "text": [
      "✓ 获取 600036 数据\n"
     ]
    },
    {
     "data": {
      "application/vnd.jupyter.widget-view+json": {
       "model_id": "c2ab6b5f165b4ce2a2f0a2c494712c88",
       "version_major": 2,
       "version_minor": 0
      },
      "text/plain": [
       "  0%|          | 0/6 [00:00<?, ?it/s]"
      ]
     },
     "metadata": {},
     "output_type": "display_data"
    },
    {
     "name": "stdout",
     "output_type": "stream",
     "text": [
      "✓ 获取 601988 数据\n",
      "\n",
      "同行对比表:\n",
      "Symbol Company  Market Cap    PE   PB   ROE   ROA  Net Margin  Asset Turnover  Debt/Equity  Current Ratio  Revenue Growth\n",
      "000001    平安银行     2398.57  9.64 0.54  4.88  0.43        0.00               0        10.52           0.00            0.00\n",
      "000002   万  科Ａ      833.96  0.00 0.44 -6.24 -0.88      -10.32               0         2.72           1.31          -26.23\n",
      "600036    招商银行    10975.68 29.26 1.03  2.99  0.30        0.00               0         8.99           0.00            0.00\n",
      "601988    中国银行    18237.22 28.41 0.59  1.92  0.17        0.00               0        11.13           0.00            0.00\n",
      "\n",
      "行业平均值:\n",
      "  Market Cap: 行业均值 8111.36, 000001 2398.57\n",
      "  PE: 行业均值 22.44, 000001 9.64\n",
      "  PB: 行业均值 0.65, 000001 0.54\n",
      "  ROE: 行业均值 0.89%, 000001 4.88%\n",
      "  ROA: 行业均值 0.01%, 000001 0.43%\n",
      "  Net Margin: 行业均值 -10.32%, 000001 0.00%\n",
      "  Debt/Equity: 行业均值 8.34%, 000001 10.52%\n",
      "  Current Ratio: 行业均值 1.31%, 000001 0.00%\n",
      "  Revenue Growth: 行业均值 -26.23%, 000001 0.00%\n",
      "\n",
      "============================================================\n",
      "000001 投资分析摘要\n",
      "============================================================\n",
      "公司: 平安银行\n",
      "\n",
      "财务健康度评分: 25/100\n",
      "投资建议: 谨慎 - 财务状况较差\n",
      "\n",
      "风险提示:\n",
      "  - 盈利能力较弱，ROE低于5%\n",
      "  - 资产负债率过高，偿债压力较大\n"
     ]
    }
   ],
   "source": [
    "from quantlib.fundamental.analyzer import FundamentalAnalyzer\n",
    "analyzer_cn = FundamentalAnalyzer('000001', market='CN')\n",
    "        \n",
    "if analyzer_cn.load_company_data():\n",
    "    # 分析财务报表\n",
    "    analyzer_cn.analyze_financial_statements()\n",
    "    # 计算财务比率  \n",
    "    analyzer_cn.calculate_financial_ratios()\n",
    "\n",
    "    # 同行对比（银行股）\n",
    "    bank_peers = ['000002', '600036', '601988']\n",
    "    analyzer_cn.peer_comparison_analysis(bank_peers)\n",
    "\n",
    "    # 生成投资摘要\n",
    "    analyzer_cn.generate_investment_summary()\n",
    "    \n"
   ]
  },
  {
   "cell_type": "code",
   "execution_count": 4,
   "id": "aad511e1",
   "metadata": {},
   "outputs": [
    {
     "name": "stdout",
     "output_type": "stream",
     "text": [
      "\n",
      "============================================================\n",
      "财务比率分析\n",
      "============================================================\n",
      "调试：获取到 9 个信息字段\n",
      "手动计算PE: 12.36 / 1.2816 = 9.64\n",
      "手动计算PB: 12.36 / 22.68 = 0.54\n",
      "关键财务比率:\n",
      "  ROE: 4.88%\n",
      "  ROA: 0.43%\n",
      "  总资产利润率: 0.42%\n",
      "  资产负债率: 91.32%\n",
      "  股东权益比率: 8.68%\n",
      "  PE: 9.64\n",
      "  PB: 0.54\n",
      "\n",
      "============================================================\n",
      "同行对比分析\n",
      "============================================================\n"
     ]
    },
    {
     "data": {
      "application/vnd.jupyter.widget-view+json": {
       "model_id": "fe3636681629437184eaa131b72f0a78",
       "version_major": 2,
       "version_minor": 0
      },
      "text/plain": [
       "  0%|          | 0/6 [00:00<?, ?it/s]"
      ]
     },
     "metadata": {},
     "output_type": "display_data"
    },
    {
     "name": "stdout",
     "output_type": "stream",
     "text": [
      "✓ 获取 000001 数据\n"
     ]
    },
    {
     "data": {
      "application/vnd.jupyter.widget-view+json": {
       "model_id": "784cce245c714bb78a3b48bf5089afa6",
       "version_major": 2,
       "version_minor": 0
      },
      "text/plain": [
       "  0%|          | 0/6 [00:00<?, ?it/s]"
      ]
     },
     "metadata": {},
     "output_type": "display_data"
    },
    {
     "name": "stdout",
     "output_type": "stream",
     "text": [
      "✓ 获取 000002 数据\n"
     ]
    },
    {
     "data": {
      "application/vnd.jupyter.widget-view+json": {
       "model_id": "2dcc3e1202214233941d9374c6ad1dee",
       "version_major": 2,
       "version_minor": 0
      },
      "text/plain": [
       "  0%|          | 0/6 [00:00<?, ?it/s]"
      ]
     },
     "metadata": {},
     "output_type": "display_data"
    },
    {
     "name": "stdout",
     "output_type": "stream",
     "text": [
      "✓ 获取 600036 数据\n"
     ]
    },
    {
     "data": {
      "application/vnd.jupyter.widget-view+json": {
       "model_id": "3e6c13e902e5449d88714c6358f0b3a4",
       "version_major": 2,
       "version_minor": 0
      },
      "text/plain": [
       "  0%|          | 0/6 [00:00<?, ?it/s]"
      ]
     },
     "metadata": {},
     "output_type": "display_data"
    },
    {
     "name": "stdout",
     "output_type": "stream",
     "text": [
      "✓ 获取 601988 数据\n",
      "\n",
      "同行对比表:\n",
      "Symbol Company  Market Cap  PE  PB   ROE   ROA  Net Margin  Asset Turnover  Debt/Equity  Current Ratio  Revenue Growth\n",
      "000001    平安银行     2398.57   0   0  4.88  0.43        0.00               0        10.52           0.00            0.00\n",
      "000002   万  科Ａ      833.96   0   0 -6.24 -0.88      -10.32               0         2.72           1.31          -26.23\n",
      "600036    招商银行    10975.68   0   0  2.99  0.30        0.00               0         8.99           0.00            0.00\n",
      "601988    中国银行    18237.22   0   0  1.92  0.17        0.00               0        11.13           0.00            0.00\n",
      "\n",
      "行业平均值:\n",
      "  Market Cap: 行业均值 8111.36, 000001 2398.57\n",
      "  ROE: 行业均值 0.89%, 000001 4.88%\n",
      "  ROA: 行业均值 0.01%, 000001 0.43%\n",
      "  Net Margin: 行业均值 -10.32%, 000001 0.00%\n",
      "  Debt/Equity: 行业均值 8.34%, 000001 10.52%\n",
      "  Current Ratio: 行业均值 1.31%, 000001 0.00%\n",
      "  Revenue Growth: 行业均值 -26.23%, 000001 0.00%\n",
      "\n",
      "============================================================\n",
      "000001 投资分析摘要\n",
      "============================================================\n",
      "公司: 平安银行\n",
      "\n",
      "财务健康度评分: 25/100\n",
      "投资建议: 谨慎 - 财务状况较差\n",
      "\n",
      "风险提示:\n",
      "  - 盈利能力较弱，ROE低于5%\n",
      "  - 资产负债率过高，偿债压力较大\n"
     ]
    }
   ],
   "source": [
    "# 计算财务比率  \n",
    "analyzer_cn.calculate_financial_ratios()\n",
    "\n",
    "# 同行对比（银行股）\n",
    "bank_peers = ['000002', '600036', '601988']\n",
    "analyzer_cn.peer_comparison_analysis(bank_peers)\n",
    "\n",
    "# 生成投资摘要\n",
    "analyzer_cn.generate_investment_summary()"
   ]
  },
  {
   "cell_type": "code",
   "execution_count": 5,
   "id": "77fa6f74",
   "metadata": {},
   "outputs": [
    {
     "data": {
      "text/plain": [
       "{'ROE': 4.88,\n",
       " 'ROA': 0.4272,\n",
       " '总资产利润率': 0.4233,\n",
       " '资产负债率': 91.318,\n",
       " '股东权益比率': 8.682,\n",
       " 'PE': np.float64(9.644194756554306),\n",
       " 'PB': np.float64(0.544973544973545)}"
      ]
     },
     "execution_count": 5,
     "metadata": {},
     "output_type": "execute_result"
    }
   ],
   "source": [
    "analyzer_cn.ratios\n",
    "\n"
   ]
  },
  {
   "cell_type": "code",
   "execution_count": null,
   "id": "ae136a92",
   "metadata": {},
   "outputs": [],
   "source": []
  }
 ],
 "metadata": {
  "kernelspec": {
   "display_name": "quant",
   "language": "python",
   "name": "python3"
  },
  "language_info": {
   "codemirror_mode": {
    "name": "ipython",
    "version": 3
   },
   "file_extension": ".py",
   "mimetype": "text/x-python",
   "name": "python",
   "nbconvert_exporter": "python",
   "pygments_lexer": "ipython3",
   "version": "3.10.18"
  }
 },
 "nbformat": 4,
 "nbformat_minor": 5
}
