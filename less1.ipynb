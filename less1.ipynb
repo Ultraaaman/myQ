{
 "cells": [
  {
   "cell_type": "code",
   "execution_count": 1,
   "id": "0ovbbbu7j3ea",
   "metadata": {},
   "outputs": [
    {
     "name": "stdout",
     "output_type": "stream",
     "text": [
      "测试修复后的PE/PB计算...\n",
      "✓ 成功加载 000001 的公司信息\n",
      "\n",
      "============================================================\n",
      "财务报表分析\n",
      "============================================================\n"
     ]
    },
    {
     "data": {
      "application/vnd.jupyter.widget-view+json": {
       "model_id": "29472019e196465f9b93563ee53de1a9",
       "version_major": 2,
       "version_minor": 0
      },
      "text/plain": [
       "  0%|          | 0/6 [00:00<?, ?it/s]"
      ]
     },
     "metadata": {},
     "output_type": "display_data"
    },
    {
     "name": "stdout",
     "output_type": "stream",
     "text": [
      "财务指标数据获取成功:\n",
      "  数据期间: 22 个报告期\n",
      "  数据范围: 2020-03-31 至 2025-06-30\n",
      "\n",
      "最新财务指标 (2025-06-30 00:00:00):\n",
      "  摊薄每股收益: 1.28 元\n",
      "  加权每股收益: 1.18 元\n",
      "  每股净资产: 22.68 元\n",
      "  每股经营性现金流: 9.00 元\n",
      "  总资产净利润率: 0.43%\n",
      "  净资产收益率: 4.88%\n",
      "  加权净资产收益率: 5.25%\n",
      "  总资产: 5,874,961,000,000 元\n",
      "  资产负债率: 91.32%\n",
      "\n",
      "============================================================\n",
      "财务比率分析\n",
      "============================================================\n",
      "调试：获取到 9 个信息字段\n",
      "A股指标接口失败: module 'akshare' has no attribute 'stock_a_indicator'\n",
      "手动计算PE: 12.45 / 1.2816 = 9.71\n",
      "手动计算PB: 12.45 / 22.68 = 0.55\n",
      "关键财务比率:\n",
      "  ROE: 4.88%\n",
      "  ROA: 0.43%\n",
      "  总资产利润率: 0.42%\n",
      "  资产负债率: 91.32%\n",
      "  股东权益比率: 8.68%\n",
      "  PE: 9.71\n",
      "  PB: 0.55\n",
      "\n",
      "=== 修复后的结果 ===\n",
      "PE: 9.71441947565543\n",
      "PB: 0.548941798941799\n",
      "\n",
      "所有比率:\n",
      "  ROE: 4.88\n",
      "  ROA: 0.43\n",
      "  总资产利润率: 0.42%\n",
      "  资产负债率: 91.32%\n",
      "  股东权益比率: 8.68%\n",
      "  PE: 9.71\n",
      "  PB: 0.55\n"
     ]
    }
   ],
   "source": [
    "# 测试修复后的PE/PB计算\n",
    "from quantlib.fundamental.analyzer import FundamentalAnalyzer\n",
    "\n",
    "print(\"测试修复后的PE/PB计算...\")\n",
    "analyzer_cn = FundamentalAnalyzer('000001', market='CN')\n",
    "        \n",
    "if analyzer_cn.load_company_data():\n",
    "    # 重新分析财务报表\n",
    "    analyzer_cn.analyze_financial_statements()\n",
    "    \n",
    "    # 重新计算财务比率（现在应该能获取PE和PB）\n",
    "    analyzer_cn.calculate_financial_ratios()\n",
    "    \n",
    "    # 查看结果\n",
    "    print(f\"\\n=== 修复后的结果 ===\")\n",
    "    print(f\"PE: {analyzer_cn.ratios.get('PE', 'N/A')}\")\n",
    "    print(f\"PB: {analyzer_cn.ratios.get('PB', 'N/A')}\")\n",
    "    print(f\"\\n所有比率:\")\n",
    "    for key, value in analyzer_cn.ratios.items():\n",
    "        if key in ['PE', 'PB']:\n",
    "            print(f\"  {key}: {value:.2f}\" if isinstance(value, (int, float)) else f\"  {key}: {value}\")\n",
    "        elif '率' in key and key not in ['PE', 'PB']:\n",
    "            print(f\"  {key}: {value:.2f}%\" if isinstance(value, (int, float)) else f\"  {key}: {value}\")\n",
    "        else:\n",
    "            print(f\"  {key}: {value:.2f}\" if isinstance(value, (int, float)) else f\"  {key}: {value}\")"
   ]
  },
  {
   "cell_type": "markdown",
   "id": "69626aa5",
   "metadata": {},
   "source": [
    "# experimental"
   ]
  },
  {
   "cell_type": "code",
   "execution_count": 2,
   "id": "dd7247a3",
   "metadata": {},
   "outputs": [],
   "source": [
    "from quantlib.fundamental.analyzer import FundamentalAnalyzer"
   ]
  },
  {
   "cell_type": "code",
   "execution_count": 3,
   "id": "02a2ff22",
   "metadata": {},
   "outputs": [
    {
     "name": "stdout",
     "output_type": "stream",
     "text": [
      "✓ 成功加载 000001 的公司信息\n",
      "\n",
      "============================================================\n",
      "财务报表分析\n",
      "============================================================\n"
     ]
    },
    {
     "data": {
      "application/vnd.jupyter.widget-view+json": {
       "model_id": "fdb179ab18cb46ae9c1babc4a13d92ae",
       "version_major": 2,
       "version_minor": 0
      },
      "text/plain": [
       "  0%|          | 0/6 [00:00<?, ?it/s]"
      ]
     },
     "metadata": {},
     "output_type": "display_data"
    },
    {
     "name": "stdout",
     "output_type": "stream",
     "text": [
      "财务指标数据获取成功:\n",
      "  数据期间: 22 个报告期\n",
      "  数据范围: 2020-03-31 至 2025-06-30\n",
      "\n",
      "最新财务指标 (2025-06-30 00:00:00):\n",
      "  摊薄每股收益: 1.28 元\n",
      "  加权每股收益: 1.18 元\n",
      "  每股净资产: 22.68 元\n",
      "  每股经营性现金流: 9.00 元\n",
      "  总资产净利润率: 0.43%\n",
      "  净资产收益率: 4.88%\n",
      "  加权净资产收益率: 5.25%\n",
      "  总资产: 5,874,961,000,000 元\n",
      "  资产负债率: 91.32%\n"
     ]
    }
   ],
   "source": [
    "analyzer_cn = FundamentalAnalyzer('000001', market='CN')\n",
    "        \n",
    "if analyzer_cn.load_company_data():\n",
    "    # 分析财务报表\n",
    "    analyzer_cn.analyze_financial_statements()\n",
    "    \n",
    "    \n"
   ]
  },
  {
   "cell_type": "code",
   "execution_count": null,
   "id": "aad511e1",
   "metadata": {},
   "outputs": [
    {
     "name": "stdout",
     "output_type": "stream",
     "text": [
      "\n",
      "============================================================\n",
      "财务比率分析\n",
      "============================================================\n",
      "调试：获取到 9 个信息字段\n",
      "A股指标接口失败: module 'akshare' has no attribute 'stock_a_indicator'\n",
      "手动计算PE: 12.45 / 1.2816 = 9.71\n",
      "手动计算PB: 12.45 / 22.68 = 0.55\n",
      "关键财务比率:\n",
      "  ROE: 4.88%\n",
      "  ROA: 0.43%\n",
      "  总资产利润率: 0.42%\n",
      "  资产负债率: 91.32%\n",
      "  股东权益比率: 8.68%\n",
      "  PE: 9.71\n",
      "  PB: 0.55\n",
      "\n",
      "============================================================\n",
      "同行对比分析\n",
      "============================================================\n"
     ]
    },
    {
     "data": {
      "application/vnd.jupyter.widget-view+json": {
       "model_id": "1f8893f6270944e1881cf8df6664e827",
       "version_major": 2,
       "version_minor": 0
      },
      "text/plain": [
       "  0%|          | 0/6 [00:00<?, ?it/s]"
      ]
     },
     "metadata": {},
     "output_type": "display_data"
    },
    {
     "name": "stdout",
     "output_type": "stream",
     "text": [
      "✓ 获取 000001 数据\n"
     ]
    },
    {
     "data": {
      "application/vnd.jupyter.widget-view+json": {
       "model_id": "54611b32cbed4264ab516f6f4d9b6eeb",
       "version_major": 2,
       "version_minor": 0
      },
      "text/plain": [
       "  0%|          | 0/6 [00:00<?, ?it/s]"
      ]
     },
     "metadata": {},
     "output_type": "display_data"
    },
    {
     "name": "stdout",
     "output_type": "stream",
     "text": [
      "✓ 获取 000002 数据\n"
     ]
    },
    {
     "data": {
      "application/vnd.jupyter.widget-view+json": {
       "model_id": "3486379cdd2e4f78b49d26aea9ecbe26",
       "version_major": 2,
       "version_minor": 0
      },
      "text/plain": [
       "  0%|          | 0/6 [00:00<?, ?it/s]"
      ]
     },
     "metadata": {},
     "output_type": "display_data"
    },
    {
     "name": "stdout",
     "output_type": "stream",
     "text": [
      "✓ 获取 600036 数据\n"
     ]
    },
    {
     "data": {
      "application/vnd.jupyter.widget-view+json": {
       "model_id": "f1bb1b1a9c7041a3b91afb074d4bef72",
       "version_major": 2,
       "version_minor": 0
      },
      "text/plain": [
       "  0%|          | 0/6 [00:00<?, ?it/s]"
      ]
     },
     "metadata": {},
     "output_type": "display_data"
    },
    {
     "name": "stdout",
     "output_type": "stream",
     "text": [
      "✓ 获取 601988 数据\n",
      "\n",
      "同行对比表:\n",
      "Symbol Company  Market Cap  PE  PB   ROE   ROA  Net Margin  Asset Turnover  Debt/Equity  Current Ratio  Revenue Growth\n",
      "000001    平安银行     2416.04   0   0  4.88  0.43        0.00               0        10.52           0.00            0.00\n",
      "000002   万  科Ａ      854.24   0   0 -6.24 -0.88      -10.32               0         2.72           1.31          -26.23\n",
      "600036    招商银行    11063.95   0   0  2.99  0.30        0.00               0         8.99           0.00            0.00\n",
      "601988    中国银行    18301.66   0   0  1.92  0.17        0.00               0        11.13           0.00            0.00\n",
      "\n",
      "行业平均值:\n",
      "  Market Cap: 行业均值 8158.97, 000001 2416.04\n",
      "  ROE: 行业均值 0.89%, 000001 4.88%\n",
      "  ROA: 行业均值 0.01%, 000001 0.43%\n",
      "  Net Margin: 行业均值 -10.32%, 000001 0.00%\n",
      "  Debt/Equity: 行业均值 8.34%, 000001 10.52%\n",
      "  Current Ratio: 行业均值 1.31%, 000001 0.00%\n",
      "  Revenue Growth: 行业均值 -26.23%, 000001 0.00%\n",
      "\n",
      "============================================================\n",
      "000001 投资分析摘要\n",
      "============================================================\n",
      "公司: 平安银行\n",
      "\n",
      "财务健康度评分: 25/100\n",
      "投资建议: 谨慎 - 财务状况较差\n",
      "\n",
      "风险提示:\n",
      "  - 盈利能力较弱，ROE低于5%\n",
      "  - 资产负债率过高，偿债压力较大\n"
     ]
    }
   ],
   "source": [
    "# 计算财务比率  \n",
    "analyzer_cn.calculate_financial_ratios()\n",
    "\n",
    "# 同行对比（银行股）\n",
    "bank_peers = ['000002', '600036', '601988']\n",
    "analyzer_cn.peer_comparison_analysis(bank_peers)\n",
    "\n",
    "# 生成投资摘要\n",
    "analyzer_cn.generate_investment_summary()"
   ]
  },
  {
   "cell_type": "code",
   "execution_count": 9,
   "id": "77fa6f74",
   "metadata": {},
   "outputs": [
    {
     "data": {
      "text/plain": [
       "np.float64(0.548941798941799)"
      ]
     },
     "execution_count": 9,
     "metadata": {},
     "output_type": "execute_result"
    }
   ],
   "source": [
    "analyzer_cn.ratios['PB']\n",
    "\n"
   ]
  },
  {
   "cell_type": "code",
   "execution_count": null,
   "id": "ae136a92",
   "metadata": {},
   "outputs": [],
   "source": []
  }
 ],
 "metadata": {
  "kernelspec": {
   "display_name": "quant",
   "language": "python",
   "name": "python3"
  },
  "language_info": {
   "codemirror_mode": {
    "name": "ipython",
    "version": 3
   },
   "file_extension": ".py",
   "mimetype": "text/x-python",
   "name": "python",
   "nbconvert_exporter": "python",
   "pygments_lexer": "ipython3",
   "version": "3.10.18"
  }
 },
 "nbformat": 4,
 "nbformat_minor": 5
}
